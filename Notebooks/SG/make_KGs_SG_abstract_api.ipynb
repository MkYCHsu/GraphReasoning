{
 "cells": [
  {
   "cell_type": "markdown",
   "id": "f1a4c4a0",
   "metadata": {},
   "source": [
    "# GraphReasoning: Scientific Discovery through Knowledge Extraction and Multimodal Graph-based Representation and Reasoning\n",
    "\n",
    "Markus J. Buehler, MIT, 2024 mbuehler@MIT.EDU\n",
    "\n",
    "### Example: GraphReasoning: Loading graph and graph analysis"
   ]
  },
  {
   "cell_type": "code",
   "execution_count": 1,
   "id": "0e15a35a-c59e-4ac9-97a8-19f2e0634ccf",
   "metadata": {},
   "outputs": [
    {
     "name": "stdout",
     "output_type": "stream",
     "text": [
      "hello\n"
     ]
    }
   ],
   "source": [
    "print('hello')"
   ]
  },
  {
   "cell_type": "code",
   "execution_count": 2,
   "id": "ed55ce76-958f-4b5d-bcfd-73d326272df9",
   "metadata": {},
   "outputs": [],
   "source": [
    "# import openai\n",
    "config_list = [\n",
    "    {\n",
    "        \"model\":\"meta-llama/Llama-4-Maverick-17B-128E-Instruct-FP8\",\n",
    "        \"api_key\":\"960e3a3bf627e826c526c3d6cd45e3a7a94302ff95d330b35e7f27bed2e5a166\",\n",
    "        \"max_tokens\": 20000\n",
    "    },\n",
    "]\n"
   ]
  },
  {
   "cell_type": "code",
   "execution_count": 3,
   "id": "40fca58b-ec17-414a-aecb-bc5d1a779609",
   "metadata": {},
   "outputs": [],
   "source": [
    "from together import Together\n",
    "client = Together(api_key=config_list[0][\"api_key\"])\n"
   ]
  },
  {
   "cell_type": "code",
   "execution_count": 4,
   "id": "336e744c",
   "metadata": {
    "tags": []
   },
   "outputs": [],
   "source": [
    "#!/usr/bin/env python\n",
    "# coding: utf-8\n",
    "\n",
    "# # GraphReasoning: Scientific Discovery through Knowledge Extraction and Multimodal Graph-based Representation and Reasoning\n",
    "# \n",
    "# Markus J. Buehler, MIT, 2024 mbuehler@MIT.EDU\n",
    "# \n",
    "# ### Example: GraphReasoning: Loading graph and graph analysis\n",
    "\n",
    "\n",
    "import os\n",
    "from GraphReasoning import *\n",
    "\n",
    "# In[2]:\n",
    "\n"
   ]
  },
  {
   "cell_type": "code",
   "execution_count": 5,
   "id": "1ee71b51-cfa6-4dca-aa55-de6b48f19c18",
   "metadata": {},
   "outputs": [],
   "source": [
    "verbatim=False"
   ]
  },
  {
   "cell_type": "code",
   "execution_count": 6,
   "id": "ac05b174-03ef-4443-b25b-fb571a23c88d",
   "metadata": {},
   "outputs": [],
   "source": [
    "doc_data_dir = '/home/mkychsu/pool/SG_abstracts/'\n",
    "data_dir='./GRAPHDATA'    \n",
    "data_dir_output='./GRAPHDATA_OUTPUT'\n",
    "\n",
    "max_tokens = config_list[0]['max_tokens']\n"
   ]
  },
  {
   "cell_type": "markdown",
   "id": "4e892a7b-ec8c-4385-b429-d3c10c49ec52",
   "metadata": {},
   "source": [
    "### Load dataset"
   ]
  },
  {
   "cell_type": "code",
   "execution_count": 7,
   "id": "20e47a90-fe76-4c50-8468-64dbcfaf76f7",
   "metadata": {
    "tags": []
   },
   "outputs": [
    {
     "name": "stdout",
     "output_type": "stream",
     "text": [
      "0 /home/mkychsu/pool/SG_abstracts/Biocompatible and Non-adherence.xls\n",
      "1 /home/mkychsu/pool/SG_abstracts/Biocompatible and Non-reactive.xls\n",
      "2 /home/mkychsu/pool/SG_abstracts/Broad Temperature Stability.xls\n",
      "3 /home/mkychsu/pool/SG_abstracts/Chemical_Resistance_to_Methanol.xls\n",
      "4 /home/mkychsu/pool/SG_abstracts/Chemical_Resistance_to_Protein_Denaturants.xls\n",
      "5 /home/mkychsu/pool/SG_abstracts/Chemical_Resistance_to_acetone.xls\n",
      "6 /home/mkychsu/pool/SG_abstracts/Chemical_resistance_to_DMSO.xls\n",
      "7 /home/mkychsu/pool/SG_abstracts/Chemical_resistance_to_guanine_hydrochloride.xls\n",
      "8 /home/mkychsu/pool/SG_abstracts/Chemical_resistance_to_organic_solvents.xls\n",
      "9 /home/mkychsu/pool/SG_abstracts/Chemical_resistance_to_strong_acid.xls\n",
      "10 /home/mkychsu/pool/SG_abstracts/Compatible with Sterilization.xls\n",
      "11 /home/mkychsu/pool/SG_abstracts/Extreme_Thermal_resistance.xls\n",
      "12 /home/mkychsu/pool/SG_abstracts/Extreme_chemical_resistance.xls\n",
      "13 /home/mkychsu/pool/SG_abstracts/Flexible at Low Temperatures.xls\n",
      "14 /home/mkychsu/pool/SG_abstracts/Impermeability of small_organic_molecules.xls\n",
      "15 /home/mkychsu/pool/SG_abstracts/Impermeability_of_small_molecules.xls\n",
      "16 /home/mkychsu/pool/SG_abstracts/Laminates_well_to_silicone.xls\n",
      "17 /home/mkychsu/pool/SG_abstracts/Low adsorption of proteins.xls\n",
      "18 /home/mkychsu/pool/SG_abstracts/Low coefficient of friction material.xls\n",
      "19 /home/mkychsu/pool/SG_abstracts/Low diffusion of small molecules.xls\n",
      "20 /home/mkychsu/pool/SG_abstracts/Low surface energy leads to low adsorption.xls\n",
      "21 /home/mkychsu/pool/SG_abstracts/Low_absorption_of_small_molecules.xls\n",
      "22 /home/mkychsu/pool/SG_abstracts/Low_environmental_impact_material.xls\n",
      "23 /home/mkychsu/pool/SG_abstracts/Low_extractable_and_Leachable.xls\n",
      "24 /home/mkychsu/pool/SG_abstracts/Resistance_to_acridinium_esters.xls\n",
      "25 /home/mkychsu/pool/SG_abstracts/Sterilization Safe.xls\n",
      "26 /home/mkychsu/pool/SG_abstracts/chemical_resistance_to_alkaline_phosphatase.xls\n",
      "27 /home/mkychsu/pool/SG_abstracts/chemical_resistance_to_enzymes.xls\n",
      "28 /home/mkychsu/pool/SG_abstracts/chemical_resistance_to_fluorescent_dyes.xls\n",
      "29 /home/mkychsu/pool/SG_abstracts/chemical_resistance_to_guanine_thiocyanate.xls\n",
      "30 /home/mkychsu/pool/SG_abstracts/chemical_resistance_to_horseradish_peroxide.xls\n",
      "31 /home/mkychsu/pool/SG_abstracts/chemical_resistance_to_immunoassay_reagents.xls\n",
      "32 /home/mkychsu/pool/SG_abstracts/chemical_resistance_to_luminol.xls\n",
      "33 /home/mkychsu/pool/SG_abstracts/chemically inert.xls\n",
      "34 /home/mkychsu/pool/SG_abstracts/cold_and_cryogenic.xls\n",
      "35 /home/mkychsu/pool/SG_abstracts/flexible_No_kinking_as_it_bends.xls\n",
      "36 /home/mkychsu/pool/SG_abstracts/flexible_no_kink_bends.xls\n",
      "37 /home/mkychsu/pool/SG_abstracts/laminates_to_primer.xls\n",
      "38 /home/mkychsu/pool/SG_abstracts/laminates_to_silicone.xls\n",
      "39 /home/mkychsu/pool/SG_abstracts/lamination_compatible.xls\n",
      "40 /home/mkychsu/pool/SG_abstracts/lamination_flexible.xls\n",
      "41 /home/mkychsu/pool/SG_abstracts/low_adsorption_of_flavors.xls\n",
      "42 /home/mkychsu/pool/SG_abstracts/no_kink_bends.xls\n",
      "43 /home/mkychsu/pool/SG_abstracts/survive_lamination_process.xls\n",
      "44 /home/mkychsu/pool/SG_abstracts/transmission_and_low_refractive_index.xls\n",
      "45 /home/mkychsu/pool/SG_abstracts/trasparent_polymers.xls\n",
      "46 /home/mkychsu/pool/SG_abstracts/very_high_chemical_resistance.xls\n",
      "47 /home/mkychsu/pool/SG_abstracts/very_high_thermal_resistance.xls\n"
     ]
    }
   ],
   "source": [
    "\n",
    "### Load dataset of papers\n",
    "\n",
    "# In[3]:\n",
    "\n",
    "import pandas as pd\n",
    "import glob\n",
    "\n",
    "doc_list=sorted(glob.glob(f'{doc_data_dir}/*.xls'))\n",
    "df_list = []\n",
    "for i, doc in enumerate(doc_list):\n",
    "    print(i, doc)\n",
    "    df_list.append(pd.read_excel(doc))\n",
    "    \n",
    "df = pd.concat(df_list, axis=0)\n"
   ]
  },
  {
   "cell_type": "code",
   "execution_count": 9,
   "id": "afb16870-e02c-4d33-9139-4722329d0f83",
   "metadata": {},
   "outputs": [],
   "source": [
    "df = df.drop_duplicates()\n",
    "df = df.reset_index(drop=True)"
   ]
  },
  {
   "cell_type": "code",
   "execution_count": 10,
   "id": "06a1f4a8-cac1-4c22-b92e-737ad4581b50",
   "metadata": {},
   "outputs": [
    {
     "data": {
      "text/plain": [
       "(172575, 72)"
      ]
     },
     "execution_count": 10,
     "metadata": {},
     "output_type": "execute_result"
    }
   ],
   "source": [
    "df.shape"
   ]
  },
  {
   "cell_type": "markdown",
   "id": "393e1660",
   "metadata": {},
   "source": [
    "### Set up LLM client:"
   ]
  },
  {
   "cell_type": "code",
   "execution_count": null,
   "id": "f1af151d-1ad2-4ab4-b38e-bd7cdee3da8f",
   "metadata": {
    "scrolled": true
   },
   "outputs": [],
   "source": []
  },
  {
   "cell_type": "code",
   "execution_count": 11,
   "id": "f616e017-9eed-4354-8763-8f60221d5a0d",
   "metadata": {
    "scrolled": true,
    "tags": []
   },
   "outputs": [],
   "source": [
    "\n",
    "import instructor\n",
    "from typing import List\n",
    "from PIL import Image\n",
    "import base64\n",
    "\n",
    "from pydantic import BaseModel\n",
    "\n",
    "class Node(BaseModel):\n",
    "    id: str\n",
    "    type: str\n",
    "        \n",
    "class Edge(BaseModel):\n",
    "    source: str\n",
    "    target: str\n",
    "    relation: str\n",
    "        \n",
    "class KnowledgeGraph(BaseModel):\n",
    "    nodes: List[Node]\n",
    "    edges: List[Edge]\n",
    "\n",
    "response_model = KnowledgeGraph\n",
    "system_prompt = '''\n",
    "You are a scientific assistant extracting knowledge graphs from text.\n",
    "Return a JSON with two fields: <nodes> and <edges>.\\n\n",
    "Each node must have <id> and <type>.\\n\n",
    "Each edge must have <source>, <target>, and <relation>.\n",
    "'''\n",
    "\n",
    "\n",
    "def generate(system_prompt=system_prompt, \n",
    "             prompt=\"\",temperature=0.333,\n",
    "             max_tokens=config_list[0]['max_tokens'], response_model=KnowledgeGraph, \n",
    "            ):     \n",
    "\n",
    "    if system_prompt==None:\n",
    "        messages=[\n",
    "            {\"role\": \"user\", \"content\": f\"{prompt}\"},\n",
    "        ]\n",
    "\n",
    "    else:\n",
    "        messages=[\n",
    "            {\"role\": \"system\",  \"content\": f\"{system_prompt}\"},\n",
    "            {\"role\": \"user\", \"content\": f\"{prompt}\"},\n",
    "        ]\n",
    "\n",
    "    \n",
    "    create = instructor.patch(\n",
    "        create=client.chat.completions.create,\n",
    "        mode=instructor.Mode.JSON_SCHEMA,\n",
    "    )\n",
    "\n",
    "    return create(messages=messages,   \n",
    "                    model=config_list[0][\"model\"],\n",
    "                    max_tokens=max_tokens,\n",
    "                    temperature=0.333,\n",
    "                    response_model=response_model,\n",
    "                   )\n",
    "\n",
    "def image_to_base64_data_uri(file_path):\n",
    "    with open(file_path, \"rb\") as image_file:\n",
    "        base64_data = base64.b64encode(image_file.read()).decode(\"utf-8\")\n",
    "        return f\"data:image/png;base64,{base64_data}\"\n",
    "\n",
    "def generate_figure(image, system_prompt=system_prompt, \n",
    "                prompt=\"\", temperature=0,\n",
    "                ):\n",
    "    try:\n",
    "        pwd = os.getcwd()\n",
    "        image = image.split(pwd)[-1]\n",
    "        image=Path('.').glob(f'**/{image}', case_sensitive=False)\n",
    "        image = list(image)[0]\n",
    "    except:\n",
    "        return '' \n",
    "    image_uri = image_to_base64_data_uri(image)\n",
    "    \n",
    "    messages = [\n",
    "        {\"role\": \"system\", \"content\": \"You are an assistant who perfectly describes images.\"},\n",
    "        {\n",
    "            \"role\": \"user\",\n",
    "            \"content\": [\n",
    "                {\"type\": \"image_url\", \"image_url\": {\"url\": image_uri}},\n",
    "                {\"type\": \"text\", \"text\": \"Describe this image in detail please.\"},\n",
    "            ],\n",
    "        },\n",
    "    ]\n",
    "        \n",
    "    return create(messages=messages,   \n",
    "                    model=config_list[0][\"model\"],\n",
    "                    max_tokens=max_tokens,\n",
    "                    temperature=0.333,\n",
    "                    response_model=response_model,\n",
    "                   ).choices[0].message.content"
   ]
  },
  {
   "cell_type": "code",
   "execution_count": null,
   "id": "d7c92508-bfda-4f8b-bde0-a57372967c29",
   "metadata": {},
   "outputs": [],
   "source": []
  },
  {
   "cell_type": "code",
   "execution_count": null,
   "id": "4e28f6e1-d527-40f2-9966-668aadaddd7f",
   "metadata": {
    "scrolled": true
   },
   "outputs": [],
   "source": [
    "import networkx as nx\n",
    "from GraphReasoning import make_graph_from_text\n",
    "from datetime import datetime\n",
    "import time\n",
    "import torch\n",
    "\n",
    "G=nx.DiGraph()\n",
    "with torch.no_grad():\n",
    "    # for i, doc in enumerate(doc_list):\n",
    "\n",
    "    \n",
    "    for i, row in df.iterrows():\n",
    "\n",
    "        title = row['Article Title']\n",
    "        title=title.replace('/','|')\n",
    "        \n",
    "        doi = row['DOI'] # not using it for now\n",
    "        txt=row['Abstract']\n",
    "        \n",
    "        graph_root = f'{title}'\n",
    "        _graph_GraphML= f'{data_dir_output}/{graph_root}_augmented_graphML_integrated.graphml'\n",
    "        \n",
    "        image_list = glob.glob(''.join(doc.split('/')[:-1])+'/*png') # if running for \n",
    "        print(image_list)\n",
    "        break\n",
    "        current_graph = f'{data_dir}/{graph_root}_graph.graphml'\n",
    "        if os.path.exists(_graph_GraphML):\n",
    "            G = nx.read_graphml(_graph_GraphML)\n",
    "            print(f'Main KG loaded: {_graph_GraphML}, {G}')\n",
    "            continue\n",
    "            \n",
    "        if os.path.exists(f'{title}_err.txt'):\n",
    "            print(f'No. {i}: {title} got something wrong.')\n",
    "            continue\n",
    "\n",
    "        while not os.path.exists(current_graph):\n",
    "            print(f\"generating KG for {title}\")\n",
    "            try:\n",
    "                if type(txt) is not str:\n",
    "                    break # format of abstract is wrong \n",
    "                now = datetime.now()\n",
    "                _, current_graph, _, _, _ = make_graph_from_text(txt,generate,\n",
    "                                      generate_figure, image_list,\n",
    "                                      graph_root=graph_root,do_distill=False,\n",
    "                                      chunk_size=200000,chunk_overlap=0,\n",
    "                                      repeat_refine=0,verbatim=False,\n",
    "                                      data_dir=data_dir,\n",
    "                                                                 \n",
    "                                      save_PDF=False,\n",
    "                                     )\n",
    "                print(\"Time: \", datetime.now()-now)\n",
    "                break # successfully generate KGs without error\n",
    "            except:\n",
    "                print('Reach rate limit')\n",
    "                time.sleep(60)\n",
    "            \n",
    " "
   ]
  },
  {
   "cell_type": "code",
   "execution_count": null,
   "id": "06d65e74-3e33-4227-ab6f-ae33f602a76f",
   "metadata": {},
   "outputs": [],
   "source": []
  },
  {
   "cell_type": "markdown",
   "id": "0dfea229-296d-453c-9eb6-0742d7f29ba2",
   "metadata": {},
   "source": [
    "### Test"
   ]
  },
  {
   "cell_type": "code",
   "execution_count": null,
   "id": "e658b417-97ea-4a21-ae32-042d347ed26a",
   "metadata": {},
   "outputs": [],
   "source": [
    "system_prompt = '''\n",
    "You are a scientific assistant extracting knowledge graphs from text.\n",
    "Return a JSON with two fields: <nodes> and <edges>.\\n\n",
    "Each node must have <id> and <type>.\\n\n",
    "Each edge must have <source>, <target>, and <relation>.\n",
    "'''\n",
    "\n",
    "prompt = f\"Text: {txt}\\n\\nExtract the knowledge graph in structured JSON.\"\n",
    "result = generate(system_prompt = system_prompt,\n",
    "                 prompt = prompt, response_model=response_model, max_tokens=10240)\n"
   ]
  },
  {
   "cell_type": "code",
   "execution_count": null,
   "id": "670c2307-1f6d-4c28-a1ca-b4fde86728ec",
   "metadata": {},
   "outputs": [],
   "source": [
    "result"
   ]
  },
  {
   "cell_type": "code",
   "execution_count": null,
   "id": "c0bb2331-0d41-4be2-a4b8-b0b30bc61aec",
   "metadata": {},
   "outputs": [],
   "source": [
    "# print(type(result.nodes[0]))\n",
    "# print(result.edges)"
   ]
  },
  {
   "cell_type": "code",
   "execution_count": null,
   "id": "d82abb98-0337-4252-a756-3ae291138876",
   "metadata": {},
   "outputs": [],
   "source": [
    "# G = nx.DiGraph()\n",
    "# # Add nodes\n",
    "# for node in result.nodes:\n",
    "#     G.add_node(node.id, type=node.type)\n",
    "\n",
    "# # Add edges\n",
    "# for edge in result.edges:\n",
    "#     G.add_edge(edge.source, edge.target, relation=edge.relation)\n"
   ]
  },
  {
   "cell_type": "code",
   "execution_count": null,
   "id": "8806c9f2-6a0b-4406-9639-43899c4c9315",
   "metadata": {},
   "outputs": [],
   "source": [
    "# import matplotlib.pyplot as plt\n",
    "# import networkx as nx\n",
    "\n",
    "# # Print stats\n",
    "# print(f\"Nodes: {G.number_of_nodes()}, Edges: {G.number_of_edges()}\")\n",
    "# graphml_path: str = \"knowledge_graph_2.graphml\"\n",
    "# # Save as GraphML\n",
    "# nx.write_graphml(G, graphml_path)\n",
    "# print(f\"💾 Graph saved to: {graphml_path}\")\n",
    "\n",
    "# # Display graph\n",
    "# plt.figure(figsize=(10, 7))\n",
    "# pos = nx.spring_layout(G, seed=42)  # consistent layout\n",
    "# nx.draw(G, pos, with_labels=True, node_color=\"skyblue\", node_size=1000, font_size=10, font_weight=\"bold\", edge_color=\"gray\")\n",
    "# edge_labels = nx.get_edge_attributes(G, \"relation\")\n",
    "# nx.draw_networkx_edge_labels(G, pos, edge_labels=edge_labels, font_size=9)\n",
    "# plt.title(\"Knowledge Graph\")\n",
    "# plt.axis(\"off\")\n",
    "# plt.show()"
   ]
  },
  {
   "cell_type": "code",
   "execution_count": null,
   "id": "6263631d-e3ac-4def-9bec-2b46b5bf27a1",
   "metadata": {
    "tags": []
   },
   "outputs": [],
   "source": [
    "# # doc = doc_list[0]\n",
    "# # title = doc.split('/')[-1].split('.pdf')[0]\n",
    "# # graph_root = f'{title}'\n",
    "# import networkx as nx\n",
    "\n",
    "# G = nx.read_graphml(f'{data_dir_output}/TSMC_KG_70b.graphml')\n",
    "# # G = nx.read_graphml(f'{data_dir_output}/4books_integrated.graphml')\n",
    "# print(f'KG loaded: {G}')\n",
    "# # node_embeddings = generate_node_embeddings(G, embedding_tokenizer, embedding_model, )\n",
    "\n"
   ]
  },
  {
   "cell_type": "code",
   "execution_count": null,
   "id": "0a066630-ea90-4d5e-9499-35f42db734c3",
   "metadata": {
    "editable": true,
    "slideshow": {
     "slide_type": ""
    },
    "tags": []
   },
   "outputs": [],
   "source": [
    "# from GraphReasoning import load_embeddings\n",
    "# embedding_file='TSMC_KG_70b.pkl'\n",
    "# generate_new_embeddings=True\n",
    "\n",
    "# if os.path.exists(f'{data_dir}/{embedding_file}'):\n",
    "#     generate_new_embeddings=False\n",
    "\n",
    "# if generate_new_embeddings:\n",
    "#     try:\n",
    "#         node_embeddings = generate_node_embeddings(G, embedding_tokenizer, embedding_model, )\n",
    "#     except:\n",
    "#         node_embeddings = generate_node_embeddings(nx.DiGraph(), embedding_tokenizer, embedding_model, )\n",
    "        \n",
    "#     save_embeddings(node_embeddings, f'{data_dir}/{embedding_file}')\n",
    "\n",
    "# else:\n",
    "#     filename = f\"{data_dir}/{embedding_file}\"\n",
    "#     # file_path = hf_hub_download(repo_id=repository_id, filename=filename, local_dir='./')\n",
    "#     # print(f\"File downloaded at: {file_path}\")\n",
    "#     node_embeddings = load_embeddings(f'{data_dir}/{embedding_file}')"
   ]
  },
  {
   "cell_type": "code",
   "execution_count": null,
   "id": "af9e52df-60c8-4d9a-87ef-1f566bf88f4b",
   "metadata": {},
   "outputs": [],
   "source": []
  },
  {
   "cell_type": "code",
   "execution_count": null,
   "id": "2241e3a7-525f-475e-b4c7-d9f1e28bfd19",
   "metadata": {},
   "outputs": [],
   "source": []
  },
  {
   "cell_type": "code",
   "execution_count": null,
   "id": "a0635943-ec61-402f-a09c-3354df10239c",
   "metadata": {},
   "outputs": [],
   "source": []
  },
  {
   "cell_type": "code",
   "execution_count": null,
   "id": "fb2ccff2-e454-4037-98e0-524b0f86c412",
   "metadata": {},
   "outputs": [],
   "source": []
  },
  {
   "cell_type": "code",
   "execution_count": null,
   "id": "6d798ca4-c0a1-4c41-aa2e-5d7900b6e04a",
   "metadata": {},
   "outputs": [],
   "source": []
  },
  {
   "cell_type": "code",
   "execution_count": null,
   "id": "7bab8b6e-802c-4f34-9c26-99b24c58b3e3",
   "metadata": {},
   "outputs": [],
   "source": []
  },
  {
   "cell_type": "code",
   "execution_count": null,
   "id": "ace98de5-0b29-4478-b959-6a774f87b4b5",
   "metadata": {},
   "outputs": [],
   "source": []
  },
  {
   "cell_type": "code",
   "execution_count": null,
   "id": "24997064-0ca0-495d-b1c4-832c9b3c4a89",
   "metadata": {},
   "outputs": [],
   "source": []
  }
 ],
 "metadata": {
  "kernelspec": {
   "display_name": "llm",
   "language": "python",
   "name": "llm"
  },
  "language_info": {
   "codemirror_mode": {
    "name": "ipython",
    "version": 3
   },
   "file_extension": ".py",
   "mimetype": "text/x-python",
   "name": "python",
   "nbconvert_exporter": "python",
   "pygments_lexer": "ipython3",
   "version": "3.12.10"
  }
 },
 "nbformat": 4,
 "nbformat_minor": 5
}
