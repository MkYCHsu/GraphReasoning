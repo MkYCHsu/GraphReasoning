{
 "cells": [
  {
   "cell_type": "markdown",
   "id": "f1a4c4a0",
   "metadata": {},
   "source": [
    "# GraphReasoning: Scientific Discovery through Knowledge Extraction and Multimodal Graph-based Representation and Reasoning\n",
    "\n",
    "Markus J. Buehler, MIT, 2024 mbuehler@MIT.EDU\n",
    "\n",
    "### Example: GraphReasoning: Loading graph and graph analysis"
   ]
  },
  {
   "cell_type": "code",
   "execution_count": 1,
   "id": "0e15a35a-c59e-4ac9-97a8-19f2e0634ccf",
   "metadata": {},
   "outputs": [
    {
     "name": "stdout",
     "output_type": "stream",
     "text": [
      "hello\n"
     ]
    }
   ],
   "source": [
    "print('hello')"
   ]
  },
  {
   "cell_type": "code",
   "execution_count": 2,
   "id": "336e744c",
   "metadata": {
    "tags": []
   },
   "outputs": [],
   "source": [
    "#!/usr/bin/env python\n",
    "# coding: utf-8\n",
    "\n",
    "# # GraphReasoning: Scientific Discovery through Knowledge Extraction and Multimodal Graph-based Representation and Reasoning\n",
    "# \n",
    "# Markus J. Buehler, MIT, 2024 mbuehler@MIT.EDU\n",
    "# \n",
    "# ### Example: GraphReasoning: Loading graph and graph analysis\n",
    "\n",
    "\n",
    "import os\n",
    "\n",
    "# from tqdm.notebook import tqdm\n",
    "# from IPython.display import display, Markdown\n",
    "# from huggingface_hub import hf_hub_download\n",
    "from GraphReasoning import *\n",
    "from GraphReasoning.graph_generation import *\n",
    "\n",
    "# In[2]:\n",
    "\n",
    "# VLM cephalo performance vs Qwen?"
   ]
  },
  {
   "cell_type": "code",
   "execution_count": 3,
   "id": "1ee71b51-cfa6-4dca-aa55-de6b48f19c18",
   "metadata": {},
   "outputs": [],
   "source": [
    "verbatim=False"
   ]
  },
  {
   "cell_type": "code",
   "execution_count": 4,
   "id": "ac05b174-03ef-4443-b25b-fb571a23c88d",
   "metadata": {},
   "outputs": [],
   "source": [
    "doc_data_dir = './paper/'\n",
    "data_dir='./GRAPHDATA_TSMC_v1'    \n",
    "data_dir_output='./GRAPHDATA_TSMC_OUTPUT_v1'\n",
    "\n",
    "filename = 'Meta-Llama-3.1-70B-Instruct-Q4_K_L.gguf'\n",
    "n_ctx = 20000\n",
    "\n",
    "embedding_file='TSMC_KG_70b.pkl'\n",
    "model_id = \"/home/mkychsu/pool/llm/Cephalo-Phi-3-vision-128k-4b-alpha\"\n"
   ]
  },
  {
   "cell_type": "markdown",
   "id": "4e892a7b-ec8c-4385-b429-d3c10c49ec52",
   "metadata": {},
   "source": [
    "### Load dataset"
   ]
  },
  {
   "cell_type": "code",
   "execution_count": 5,
   "id": "20e47a90-fe76-4c50-8468-64dbcfaf76f7",
   "metadata": {
    "tags": []
   },
   "outputs": [
    {
     "name": "stdout",
     "output_type": "stream",
     "text": [
      "['./paper/A_literature_review_on_variability_in_semiconductor_manufacturing_The_next_forward_leap_to_Industry_4.0/A_literature_review_on_variability_in_semiconductor_manufacturing_The_next_forward_leap_to_Industry_4.0.md', './paper/Atomic Layer Processing_semiconductor/Atomic Layer Processing_semiconductor.md', './paper/Characterization of an Etch Profile at a Wafer Edge in Capacitively Coupled Plasma/Characterization of an Etch Profile at a Wafer Edge in Capacitively Coupled Plasma.md', './paper/Dependences of bottom and sidewall etch rates on biasvoltage and source power during the etching of poly-Si andfluorocarbon polymer usingSF6,\\u2008C4F8,andO2plasmas/Dependences of bottom and sidewall etch rates on biasvoltage and source power during the etching of poly-Si andfluorocarbon polymer usingSF6,\\u2008C4F8,andO2plasmas.md', './paper/Etch Mechanism Study in Gate Patterning for 14 nm Node and/Etch Mechanism Study in Gate Patterning for 14 nm Node and.md', './paper/Future_of_plasma_etching_for_microelectronics_Challenges/Future_of_plasma_etching_for_microelectronics_Challenges.md', './paper/High-density vertical sidewall MoS2 transistors through T-shape vertical lamination/High-density vertical sidewall MoS2 transistors through T-shape vertical lamination.md', './paper/Influence_of_sidewall_thickness_variation_on_transfer_characteristics_of_L-shaped_Impact-ionization_MOS_transistor/Influence_of_sidewall_thickness_variation_on_transfer_characteristics_of_L-shaped_Impact-ionization_MOS_transistor.md', './paper/Interconnect Characterization Accuracy, Methodology, and Practical/Interconnect Characterization Accuracy, Methodology, and Practical.md', './paper/Model analysis of the feature profile evolution during Si etching in HBr-containing plasmas/Model analysis of the feature profile evolution during Si etching in HBr-containing plasmas.md', './paper/New_Passivating_Chemistries_for_the_Deep_Etching_of_Through_Silicon_Vias/New_Passivating_Chemistries_for_the_Deep_Etching_of_Through_Silicon_Vias.md', './paper/Profile evolution during polysilicon gate etching with low-pressure high-density cl2 hbr o2  plasma chemistries/Profile evolution during polysilicon gate etching with low-pressure high-density cl2 hbr o2  plasma chemistries.md', './paper/Sidewall_Dominated_Characteristics_on_Fin-Gate_AlGaN_GaN_MOS-Channel-HEMTs/Sidewall_Dominated_Characteristics_on_Fin-Gate_AlGaN_GaN_MOS-Channel-HEMTs.md', './paper/Silicon etching in a pulsed HBr_O2 plasma. II. Pattern transfer./Silicon etching in a pulsed HBr_O2 plasma. II. Pattern transfer..md', './paper/Ultraclean Surface Processing of Silicon Wafers - PDF Free Download/Ultraclean Surface Processing of Silicon Wafers - PDF Free Download.md', './paper/dry-etching-technology-for-semiconductors_compress/dry-etching-technology-for-semiconductors_compress.md', './paper/handbook-of-silicon-wafer-cleaning-technology-third-edition_compress/handbook-of-silicon-wafer-cleaning-technology-third-edition_compress.md', './paper/plasma-etching-an-introduction_compress/plasma-etching-an-introduction_compress.md']\n"
     ]
    }
   ],
   "source": [
    "\n",
    "### Load dataset of papers\n",
    "\n",
    "# In[3]:\n",
    "\n",
    "\n",
    "import glob\n",
    "\n",
    "doc_list=sorted(glob.glob(f'{doc_data_dir}/*/*.md'))\n",
    "\n",
    "print(doc_list)\n"
   ]
  },
  {
   "cell_type": "code",
   "execution_count": 6,
   "id": "302f81b8-35b8-46d1-ab03-8c3b7c55e0eb",
   "metadata": {
    "tags": []
   },
   "outputs": [
    {
     "name": "stderr",
     "output_type": "stream",
     "text": [
      "/home/mkychsu/pool/.conda/envs/llm/lib/python3.12/site-packages/tqdm/auto.py:21: TqdmWarning: IProgress not found. Please update jupyter and ipywidgets. See https://ipywidgets.readthedocs.io/en/stable/user_install.html\n",
      "  from .autonotebook import tqdm as notebook_tqdm\n",
      "/home/mkychsu/pool/.conda/envs/llm/lib/python3.12/site-packages/auto_gptq/nn_modules/triton_utils/kernels.py:410: FutureWarning: `torch.cuda.amp.custom_fwd(args...)` is deprecated. Please use `torch.amp.custom_fwd(args..., device_type='cuda')` instead.\n",
      "  @custom_fwd\n",
      "/home/mkychsu/pool/.conda/envs/llm/lib/python3.12/site-packages/auto_gptq/nn_modules/triton_utils/kernels.py:418: FutureWarning: `torch.cuda.amp.custom_bwd(args...)` is deprecated. Please use `torch.amp.custom_bwd(args..., device_type='cuda')` instead.\n",
      "  @custom_bwd\n",
      "/home/mkychsu/pool/.conda/envs/llm/lib/python3.12/site-packages/auto_gptq/nn_modules/triton_utils/kernels.py:461: FutureWarning: `torch.cuda.amp.custom_fwd(args...)` is deprecated. Please use `torch.amp.custom_fwd(args..., device_type='cuda')` instead.\n",
      "  @custom_fwd(cast_inputs=torch.float16)\n",
      "CUDA extension not installed.\n",
      "CUDA extension not installed.\n",
      "`low_cpu_mem_usage` was None, now default to True since model is quantized.\n",
      "/home/mkychsu/pool/.conda/envs/llm/lib/python3.12/site-packages/transformers/generation/configuration_utils.py:818: UserWarning: `return_dict_in_generate` is NOT set to `True`, but `output_hidden_states` is. When `return_dict_in_generate` is not `True`, `output_hidden_states` is ignored.\n",
      "  warnings.warn(\n",
      "INFO - Auto pick kernel based on compatibility: <class 'gptqmodel.nn_modules.qlinear.torch.TorchQuantLinear'>\n",
      "`loss_type=None` was set in the config but it is unrecognised.Using the default loss: `ForCausalLMLoss`.\n"
     ]
    },
    {
     "name": "stdout",
     "output_type": "stream",
     "text": [
      "ENV: Auto setting PYTORCH_CUDA_ALLOC_CONF='expandable_segments:True' for memory saving.\n",
      "ENV: Auto setting CUDA_DEVICE_ORDER=PCI_BUS_ID for compatibililty.\n"
     ]
    },
    {
     "name": "stderr",
     "output_type": "stream",
     "text": [
      "Loading checkpoint shards: 100%|██████████| 3/3 [00:02<00:00,  1.24it/s]\n",
      "INFO:transformers_modules.microsoft.Phi-3-vision-128k-instruct.c45209e90a4c4f7d16b2e9d48503c7f3e83623ed.image_embedding_phi3_v:learnable separator enabled for hd transform, hd_transform_order = sub_glb\n",
      "Loading checkpoint shards: 100%|██████████| 2/2 [00:04<00:00,  2.41s/it]\n",
      "/home/mkychsu/pool/.conda/envs/llm/lib/python3.12/site-packages/transformers/models/auto/image_processing_auto.py:590: FutureWarning: The image_processor_class argument is deprecated and will be removed in v4.42. Please use `slow_image_processor_class`, or `fast_image_processor_class` instead\n",
      "  warnings.warn(\n"
     ]
    }
   ],
   "source": [
    "# # In[6]:\n",
    "\n",
    "file_path = f'/home/mkychsu/pool/llm/{filename}'\n",
    "\n",
    "from transformers import AutoModelForCausalLM, AutoTokenizer\n",
    "# from tqdm.notebook import tqdm\n",
    "# from IPython.display import display, Markdown\n",
    "\n",
    "\n",
    "tokenizer_model=f'/home/mkychsu/pool/llm/SEMIKONG-8b-GPTQ'\n",
    "embedding_tokenizer = AutoTokenizer.from_pretrained(tokenizer_model,use_fast=False, device_map=\"cuda:0\")\n",
    "embedding_model = AutoModelForCausalLM.from_pretrained(tokenizer_model,output_hidden_states=True).to('cuda:0')\n",
    "\n",
    "from GraphReasoning import load_embeddings, save_embeddings, generate_node_embeddings\n",
    "\n",
    "# generate_new_embeddings=True\n",
    "\n",
    "# from PIL import Image\n",
    "# from transformers import AutoModelForCausalLM \n",
    "from transformers import AutoProcessor \n",
    "\n",
    "model = AutoModelForCausalLM.from_pretrained(model_id, device_map=\"cuda:1\", trust_remote_code=True, torch_dtype=\"auto\")\n",
    "processor = AutoProcessor.from_pretrained(model_id, device_map=\"cuda:1\", trust_remote_code=True) \n",
    "\n",
    "\n"
   ]
  },
  {
   "cell_type": "code",
   "execution_count": null,
   "id": "ed73d72f-38bb-4720-8b08-b3af7f2b37b5",
   "metadata": {
    "tags": []
   },
   "outputs": [],
   "source": []
  },
  {
   "cell_type": "code",
   "execution_count": 7,
   "id": "c7c035d4-cdf7-456c-a9bd-4499725088b9",
   "metadata": {
    "tags": []
   },
   "outputs": [
    {
     "name": "stderr",
     "output_type": "stream",
     "text": [
      "0it [00:00, ?it/s]\n"
     ]
    }
   ],
   "source": [
    "import torch\n",
    "\n",
    "if os.path.exists(f'{data_dir}/{embedding_file}'):\n",
    "    generate_new_embeddings=False\n",
    "\n",
    "generate_new_embeddings=True\n",
    "\n",
    "with torch.no_grad():\n",
    "    if generate_new_embeddings:\n",
    "\n",
    "        try:\n",
    "            import networkx as nx\n",
    "\n",
    "            graph_root=\"TSMC_KG_70b\"\n",
    "            graph_GraphML= f'{data_dir_output}/{graph_root}.graphml'\n",
    "            G = nx.read_graphml(graph_GraphML)\n",
    "            node_embeddings = generate_node_embeddings(G, embedding_tokenizer, embedding_model, )\n",
    "        except:\n",
    "            node_embeddings = generate_node_embeddings(nx.DiGraph(), embedding_tokenizer, embedding_model, )\n",
    "\n",
    "        save_embeddings(node_embeddings, f'{data_dir}/{embedding_file}')\n",
    "\n",
    "    else:\n",
    "        filename = f\"{data_dir}/{embedding_file}\"\n",
    "        node_embeddings = load_embeddings(f'{data_dir}/{embedding_file}')\n",
    "        \n",
    "        \n"
   ]
  },
  {
   "cell_type": "code",
   "execution_count": null,
   "id": "f76ee873-c881-4735-832e-1a3bc65ba489",
   "metadata": {},
   "outputs": [],
   "source": []
  },
  {
   "cell_type": "markdown",
   "id": "393e1660",
   "metadata": {},
   "source": [
    "### Set up LLM client:"
   ]
  },
  {
   "cell_type": "code",
   "execution_count": 8,
   "id": "f1af151d-1ad2-4ab4-b38e-bd7cdee3da8f",
   "metadata": {
    "scrolled": true
   },
   "outputs": [],
   "source": [
    "# from llama_cpp import Llama\n",
    "\n",
    "# from llama_cpp.llama_speculative import LlamaPromptLookupDecoding\n",
    "\n",
    "# llm = Llama(model_path=file_path,\n",
    "#              n_gpu_layers=-1,verbose= True, #False,#False,\n",
    "#              n_ctx=n_ctx,\n",
    "#              main_gpu=0,\n",
    "#              n_threads= 8 ,\n",
    "#              n_threads_batch=32,\n",
    "#              draft_model=LlamaPromptLookupDecoding(num_pred_tokens=2),\n",
    "#              logits_all=True,\n",
    "#              # chat_format='mistral-instruct',\n",
    "#              )\n",
    "# # In[10]:"
   ]
  },
  {
   "cell_type": "code",
   "execution_count": 9,
   "id": "f616e017-9eed-4354-8763-8f60221d5a0d",
   "metadata": {
    "scrolled": true,
    "tags": []
   },
   "outputs": [],
   "source": [
    "\n",
    "import instructor\n",
    "from typing import List\n",
    "from pydantic import BaseModel\n",
    "from PIL import Image\n",
    "\n",
    "class Node(BaseModel):\n",
    "    id: str\n",
    "    type: str\n",
    "        \n",
    "class Edge(BaseModel):\n",
    "    source: str\n",
    "    target: str\n",
    "    relation: str\n",
    "        \n",
    "class KnowledgeGraph(BaseModel):\n",
    "    nodes: List[Node]\n",
    "    edges: List[Edge]\n",
    "\n",
    "response_model = KnowledgeGraph\n",
    "system_prompt = '''\n",
    "You are a scientific assistant extracting knowledge graphs from text.\n",
    "Return a JSON with two fields: <nodes> and <edges>.\\n\n",
    "Each node must have <id> and <type>.\\n\n",
    "Each edge must have <source>, <target>, and <relation>.\n",
    "'''\n",
    "response_model = KnowledgeGraph\n",
    "\n",
    "def generate(system_prompt=system_prompt, \n",
    "             prompt=\"\",temperature=0.333,\n",
    "             max_tokens=n_ctx, response_model=KnowledgeGraph, \n",
    "            ):     \n",
    "\n",
    "    if system_prompt==None:\n",
    "        messages=[\n",
    "            {\"role\": \"user\", \"content\": f\"{prompt}\"},\n",
    "        ]\n",
    "\n",
    "    else:\n",
    "        messages=[\n",
    "            {\"role\": \"system\",  \"content\": f\"{system_prompt}\"},\n",
    "            {\"role\": \"user\", \"content\": f\"{prompt}\"},\n",
    "        ]\n",
    "\n",
    "    if 'json' in prompt.lower() and 'graph' in prompt.lower():\n",
    "        create = instructor.patch(\n",
    "            create=llm.create_chat_completion_openai_v1,\n",
    "            mode=instructor.Mode.JSON_SCHEMA,\n",
    "        )\n",
    "\n",
    "        result = create(messages=messages, \n",
    "                        temperature=temperature,\n",
    "                        max_tokens=max_tokens,\n",
    "                        response_model=response_model,\n",
    "                       )\n",
    "        return result\n",
    "    else:\n",
    "        \n",
    "        result=llm.create_chat_completion_openai_v1(\n",
    "    \n",
    "        # result=llm.create_chat_completion(\n",
    "                messages=messages,\n",
    "                temperature=temperature,\n",
    "                max_tokens=max_tokens,\n",
    "            )\n",
    "        return result.choices[0].message.content #['choices'][0]['message']['content']\n",
    "\n",
    "\n",
    "\n",
    "def generate_figure(image, system_prompt=system_prompt, \n",
    "                prompt=\"\", model=model, processor=processor, temperature=0,\n",
    "                           ):\n",
    "    if system_prompt==None:\n",
    "        messages=[\n",
    "            {\"role\": \"user\", \"content\": f\"Here is the image: <|image_1|>.\\n\" + prompt},\n",
    "        ]\n",
    "\n",
    "    else:\n",
    "        messages=[\n",
    "            {\"role\": \"system\",  \"content\": system_prompt},\n",
    "            {\"role\": \"user\", \"content\": f\"Here is the image: <|image_1|>.\\n\" + prompt},\n",
    "        ]\n",
    "        \n",
    "    try:\n",
    "        pwd = os.getcwd()\n",
    "        image = image.split(pwd)[-1]\n",
    "        image=Path('.').glob(f'**/{image}', case_sensitive=False)\n",
    "        image = list(image)[0]\n",
    "    except:\n",
    "        return '' \n",
    "    image = Image.open(image)\n",
    "    print(f'Extracting infomation from {image}')\n",
    "    prompt = processor.tokenizer.apply_chat_template(messages, tokenize=False, add_generation_prompt=True)\n",
    "    inputs = processor(prompt, [image], return_tensors=\"pt\").to(\"cuda:1\") \n",
    "    generation_args = { \n",
    "                        \"max_new_tokens\": 1024, \n",
    "                        \"temperature\": 0.1, \n",
    "                        \"do_sample\": True, \n",
    "                        \"stop_strings\": ['<|end|>',\n",
    "                                         '<|endoftext|>'],\n",
    "                        \"tokenizer\": processor.tokenizer,\n",
    "                      } \n",
    "\n",
    "    generate_ids = model.generate(**inputs, eos_token_id=processor.tokenizer.eos_token_id, **generation_args) \n",
    "\n",
    "    # remove input tokens \n",
    "    generate_ids = generate_ids[:, inputs['input_ids'].shape[1]:]\n",
    "    return processor.batch_decode(generate_ids, skip_special_tokens=True, clean_up_tokenization_spaces=False)[0] \n",
    "    "
   ]
  },
  {
   "cell_type": "code",
   "execution_count": 10,
   "id": "e658b417-97ea-4a21-ae32-042d347ed26a",
   "metadata": {},
   "outputs": [],
   "source": [
    "# response_model = KnowledgeGraph\n",
    "# system_prompt = '''\n",
    "# You are a scientific assistant extracting knowledge graphs from text.\n",
    "# Return a JSON with two fields: <nodes> and <edges>.\\n\n",
    "# Each node must have <id> and <type>.\\n\n",
    "# Each edge must have <source>, <target>, and <relation>.\n",
    "# '''\n",
    "# passage = '''\n",
    "# Chemical resistance refers to a material's ability to withstand prolonged exposure to various chemicals without significant degradation or loss of properties. Factors like material composition, chemical concentration, temperature, and exposure time influence a material's chemical resistance. \n",
    "# Here's a more detailed explanation:\n",
    "# Factors Affecting Chemical Resistance:\n",
    "# Material Composition:\n",
    "# The type of polymer bonds, the degree of crystallinity, branching, and the distance between the bonds are crucial factors in determining the chemical resistance of a material. \n",
    "# Chemical Type and Concentration:\n",
    "# Different chemicals have varying effects on materials. Strong acids or bases, for example, can cause significant degradation, while others may have little effect. \n",
    "# Temperature:\n",
    "# Higher temperatures can accelerate chemical reactions and potentially reduce a material's resistance. \n",
    "# Exposure Time:\n",
    "# Prolonged exposure to a chemical can lead to greater degradation than short-term exposure. \n",
    "# Stress:\n",
    "# Mechanical stress can also influence chemical resistance, as a stressed material may be more susceptible to chemical attack. \n",
    "# Examples of Materials with Good Chemical Resistance:\n",
    "# Polytetrafluoroethylene (PTFE) (Teflon):\n",
    "# Known for its resistance to almost all chemicals and solvents due to its highly crystalline structure and strong carbon-fluorine bonds. \n",
    "# LDPE (low density polyethylene), Silicone, PTFE, PFA, FEP, and certain types of polyurethane tubing:\n",
    "# These materials have excellent chemical resistance for specific applications. \n",
    "# Testing Chemical Resistance:\n",
    "# Immersion Tests:\n",
    "# Samples are immersed in various test fluids to evaluate their resistance to chemicals. \n",
    "# Visual Inspection:\n",
    "# Changes in color, shine, softening, swelling, detachment, or blistering are observed after exposure. \n",
    "# Physical Tests:\n",
    "# Measurements of weight, volume, or dimensional changes, retention of tensile strength, elongation, or impact strength are used to assess the material's performance. \n",
    "# Standards:\n",
    "# ISO 2812 and DIN EN ISO 4628-1 to -5 provide guidelines for determining the chemical resistance of materials and surfaces. \n",
    "# Chemical Resistance Charts:\n",
    "# Many resources, like those from Chemline Plastics, Mettler Toledo, and Bürkert, offer chemical resistance charts to help users select appropriate materials for specific applications. \n",
    "# These charts provide ratings or classifications (e.g., A = Excellent, B = Good, C = Fair, X = Not Recommended) based on the chemical's effect on the material. \n",
    "# It's important to remember that these charts are general guidelines and actual performance may vary depending on specific conditions. \n",
    "# '''\n",
    "# prompt = f\"Text: {passage}\\n\\nExtract the knowledge graph in structured JSON.\"\n",
    "# result = generate(system_prompt = system_prompt,\n",
    "#                  prompt = prompt, response_model=response_model, max_tokens=10240)\n"
   ]
  },
  {
   "cell_type": "code",
   "execution_count": 11,
   "id": "c0bb2331-0d41-4be2-a4b8-b0b30bc61aec",
   "metadata": {},
   "outputs": [],
   "source": [
    "# print(type(result.nodes[0]))\n",
    "# print(result.edges)"
   ]
  },
  {
   "cell_type": "code",
   "execution_count": 12,
   "id": "d82abb98-0337-4252-a756-3ae291138876",
   "metadata": {},
   "outputs": [],
   "source": [
    "# G = nx.DiGraph()\n",
    "# # Add nodes\n",
    "# for node in result.nodes:\n",
    "#     G.add_node(node.id, type=node.type)\n",
    "\n",
    "# # Add edges\n",
    "# for edge in result.edges:\n",
    "#     G.add_edge(edge.source, edge.target, relation=edge.relation)\n"
   ]
  },
  {
   "cell_type": "code",
   "execution_count": 13,
   "id": "8806c9f2-6a0b-4406-9639-43899c4c9315",
   "metadata": {},
   "outputs": [],
   "source": [
    "# import matplotlib.pyplot as plt\n",
    "# import networkx as nx\n",
    "\n",
    "# # Print stats\n",
    "# print(f\"Nodes: {G.number_of_nodes()}, Edges: {G.number_of_edges()}\")\n",
    "# graphml_path: str = \"knowledge_graph_2.graphml\"\n",
    "# # Save as GraphML\n",
    "# nx.write_graphml(G, graphml_path)\n",
    "# print(f\"💾 Graph saved to: {graphml_path}\")\n",
    "\n",
    "# # Display graph\n",
    "# plt.figure(figsize=(10, 7))\n",
    "# pos = nx.spring_layout(G, seed=42)  # consistent layout\n",
    "# nx.draw(G, pos, with_labels=True, node_color=\"skyblue\", node_size=1000, font_size=10, font_weight=\"bold\", edge_color=\"gray\")\n",
    "# edge_labels = nx.get_edge_attributes(G, \"relation\")\n",
    "# nx.draw_networkx_edge_labels(G, pos, edge_labels=edge_labels, font_size=9)\n",
    "# plt.title(\"Knowledge Graph\")\n",
    "# plt.axis(\"off\")\n",
    "# plt.show()"
   ]
  },
  {
   "cell_type": "code",
   "execution_count": 31,
   "id": "7b4d40d8-e01f-437b-ac06-1fc0b4895b4d",
   "metadata": {},
   "outputs": [],
   "source": [
    "# graph = G.copy()\n",
    "\n",
    "nodes = list(node_embeddings.keys())\n",
    "nodes_png = []\n",
    "\n",
    "for node in nodes:\n",
    "    if '.png' in node:\n",
    "        nodes_png.append(node)\n",
    "        \n",
    "for node_ in nodes_png:\n",
    "    nodes.remove(node_)\n",
    "\n",
    "for node in nodes:\n",
    "    if '.png' in node:\n",
    "        print(node)\n"
   ]
  },
  {
   "cell_type": "code",
   "execution_count": 14,
   "id": "7c820406-03f3-4b3a-a576-8738cda292b1",
   "metadata": {
    "tags": []
   },
   "outputs": [
    {
     "name": "stdout",
     "output_type": "stream",
     "text": [
      "Found a graph fragment to merge: A_literature_review_on_variability_in_semiconductor_manufacturing_The_next_forward_leap_to_Industry_4.0: ./paper/A_literature_review_on_variability_in_semiconductor_manufacturing_The_next_forward_leap_to_Industry_4.0/A_literature_review_on_variability_in_semiconductor_manufacturing_The_next_forward_leap_to_Industry_4.0.md.\n",
      "Merging graph No. 0: ./paper/A_literature_review_on_variability_in_semiconductor_manufacturing_The_next_forward_leap_to_Industry_4.0/A_literature_review_on_variability_in_semiconductor_manufacturing_The_next_forward_leap_to_Industry_4.0.md to the main one\n",
      "DiGraph with 0 nodes and 0 edges\n"
     ]
    },
    {
     "data": {
      "text/markdown": [
       "..."
      ],
      "text/plain": [
       "<IPython.core.display.Markdown object>"
      ]
     },
     "metadata": {},
     "output_type": "display_data"
    },
    {
     "name": "stdout",
     "output_type": "stream",
     "text": [
      "Now create or load new graph...\n",
      "Loading or using provided graph... Any txt data provided will be ignored...: None ./GRAPHDATA_TSMC_v1/A_literature_review_on_variability_in_semiconductor_manufacturing_The_next_forward_leap_to_Industry_4.0_graph.graphml\n",
      "--- 0.006460428237915039 seconds ---\n",
      "Now grow the existing graph...\n",
      "DiGraph with 0 nodes and 0 edges DiGraph with 346 nodes and 258 edges\n",
      "Now update node embeddings\n"
     ]
    },
    {
     "name": "stderr",
     "output_type": "stream",
     "text": [
      "  0%|          | 0/346 [00:00<?, ?it/s]Asking to truncate to max_length but no maximum length is provided and the model has no predefined maximum length. Default to no truncation.\n",
      "100%|██████████| 346/346 [01:53<00:00,  3.04it/s]\n"
     ]
    },
    {
     "name": "stdout",
     "output_type": "stream",
     "text": [
      "Now simplify graph.\n",
      "Start...\n"
     ]
    },
    {
     "name": "stderr",
     "output_type": "stream",
     "text": [
      "100%|██████████| 420/420 [00:00<00:00, 703236.60it/s]\n"
     ]
    },
    {
     "name": "stdout",
     "output_type": "stream",
     "text": [
      "Node to keep and merge: cycle time reduction <-- cycle time analysis\n",
      "Node to keep and merge: equipment-specific characteristics <-- equipment-specific factors\n",
      "Node to keep and merge: equipment-specific characteristics <-- equipment-specific variability\n",
      "Node to keep and merge: figure 1.a <-- figure 1.b\n",
      "Node to keep and merge: high mix low volume (hmlv) manufacturing systems <-- high mix low volume (hmlv) fabrication plants\n",
      "Node to keep and merge: industry 4.0 transition <-- industry 4.0\n",
      "Node to keep and merge: manufacturing systems <-- manufacturing processes\n",
      "Node to keep and merge: manufacturing systems <-- manufacturing systems efficiency\n",
      "Node to keep and merge: manufacturing systems <-- manufacturing systems performance\n",
      "Node to keep and merge: preventive maintenance work <-- preventive maintenance work segregation\n",
      "Node to keep and merge: queueing network model <-- queueing network model optimization\n",
      "Node to keep and merge: semiconductor manufacturing <-- semiconductor manufacturing systems\n",
      "Node to keep and merge: semiconductor manufacturing <-- semiconductor fabrication\n",
      "Node to keep and merge: variability analysis <-- variability identification\n",
      "Node to keep and merge: variability analysis <-- variability management\n",
      "Node to keep and merge: variability analysis <-- variability mitigation\n",
      "Node to keep and merge: variability analysis <-- variability reduction\n",
      "Node to keep and merge: variability analysis <-- variability control\n",
      "Node to keep and merge: variability control strategies <-- variability reduction techniques\n",
      "Node to keep and merge: variability in semiconductor manufacturing <-- variability in semiconductor facilities\n",
      "Node to keep and merge: process time variability <-- process time dependencies\n",
      "Node to keep and merge: manufacturing process efficiency <-- manufacturing process stages\n",
      "Node to keep and merge: tool allocation optimization <-- tool allocation efficiency\n",
      "Node to keep and merge: semiconductor manufacturers <-- semiconductor facilities\n",
      "Now relabel. \n",
      "New graph generated, nodes relabled. \n"
     ]
    },
    {
     "name": "stderr",
     "output_type": "stream",
     "text": [
      " 22%|██▏       | 71/322 [00:23<01:22,  3.03it/s]\n",
      "/home/mkychsu/pool/.conda/envs/llm/lib/python3.12/site-packages/GraphReasoning/graph_generation.py:118: SyntaxWarning: invalid escape sequence '\\ '\n",
      "  USER_PROMPT = f'Context: ```{input}``` \\n\\ Extract the knowledge graph in structured JSON: '\n"
     ]
    },
    {
     "ename": "KeyboardInterrupt",
     "evalue": "",
     "output_type": "error",
     "traceback": [
      "\u001b[0;31m---------------------------------------------------------------------------\u001b[0m",
      "\u001b[0;31mKeyboardInterrupt\u001b[0m                         Traceback (most recent call last)",
      "Cell \u001b[0;32mIn[14], line 46\u001b[0m\n\u001b[1;32m     44\u001b[0m     \u001b[38;5;66;03m# try:\u001b[39;00m\n\u001b[1;32m     45\u001b[0m     \u001b[38;5;28mprint\u001b[39m(G)\n\u001b[0;32m---> 46\u001b[0m     _, G, _, node_embeddings, _ \u001b[38;5;241m=\u001b[39m \u001b[43madd_new_subgraph_from_text\u001b[49m\u001b[43m(\u001b[49m\u001b[43mtxt\u001b[49m\u001b[38;5;241;43m=\u001b[39;49m\u001b[38;5;124;43m'\u001b[39;49m\u001b[38;5;124;43m'\u001b[39;49m\u001b[43m,\u001b[49m\n\u001b[1;32m     47\u001b[0m \u001b[43m                       \u001b[49m\u001b[43mnode_embeddings\u001b[49m\u001b[38;5;241;43m=\u001b[39;49m\u001b[43mnode_embeddings\u001b[49m\u001b[43m,\u001b[49m\n\u001b[1;32m     48\u001b[0m \u001b[43m                       \u001b[49m\u001b[43mtokenizer\u001b[49m\u001b[38;5;241;43m=\u001b[39;49m\u001b[43membedding_tokenizer\u001b[49m\u001b[43m,\u001b[49m\n\u001b[1;32m     49\u001b[0m \u001b[43m                       \u001b[49m\u001b[43mmodel\u001b[49m\u001b[38;5;241;43m=\u001b[39;49m\u001b[43membedding_model\u001b[49m\u001b[43m,\u001b[49m\n\u001b[1;32m     50\u001b[0m \u001b[43m                       \u001b[49m\u001b[43moriginal_graph\u001b[49m\u001b[38;5;241;43m=\u001b[39;49m\u001b[43mG\u001b[49m\u001b[43m,\u001b[49m\u001b[43m \u001b[49m\u001b[43mdata_dir_output\u001b[49m\u001b[38;5;241;43m=\u001b[39;49m\u001b[43mdata_dir_output\u001b[49m\u001b[43m,\u001b[49m\u001b[43m \u001b[49m\u001b[43mgraph_root\u001b[49m\u001b[38;5;241;43m=\u001b[39;49m\u001b[43mgraph_root\u001b[49m\u001b[43m,\u001b[49m\n\u001b[1;32m     51\u001b[0m \u001b[43m                       \u001b[49m\u001b[43mdo_simplify_graph\u001b[49m\u001b[38;5;241;43m=\u001b[39;49m\u001b[38;5;28;43;01mTrue\u001b[39;49;00m\u001b[43m,\u001b[49m\u001b[43msize_threshold\u001b[49m\u001b[38;5;241;43m=\u001b[39;49m\u001b[38;5;241;43m10\u001b[39;49m\u001b[43m,\u001b[49m\n\u001b[1;32m     52\u001b[0m \u001b[43m                       \u001b[49m\u001b[43mrepeat_refine\u001b[49m\u001b[38;5;241;43m=\u001b[39;49m\u001b[38;5;241;43m0\u001b[39;49m\u001b[43m,\u001b[49m\u001b[43msimilarity_threshold\u001b[49m\u001b[38;5;241;43m=\u001b[39;49m\u001b[38;5;241;43m0.97\u001b[39;49m\u001b[43m,\u001b[49m\n\u001b[1;32m     53\u001b[0m \u001b[43m                       \u001b[49m\u001b[43mdo_Louvain_on_new_graph\u001b[49m\u001b[38;5;241;43m=\u001b[39;49m\u001b[38;5;28;43;01mTrue\u001b[39;49;00m\u001b[43m,\u001b[49m\n\u001b[1;32m     54\u001b[0m \u001b[43m                       \u001b[49m\u001b[38;5;66;43;03m#whether or not to simplify, uses similiraty_threshold defined above\u001b[39;49;00m\n\u001b[1;32m     55\u001b[0m \u001b[43m                       \u001b[49m\u001b[43mreturn_only_giant_component\u001b[49m\u001b[38;5;241;43m=\u001b[39;49m\u001b[38;5;28;43;01mFalse\u001b[39;49;00m\u001b[43m,\u001b[49m\n\u001b[1;32m     56\u001b[0m \u001b[43m                       \u001b[49m\u001b[43msave_common_graph\u001b[49m\u001b[38;5;241;43m=\u001b[39;49m\u001b[38;5;28;43;01mFalse\u001b[39;49;00m\u001b[43m,\u001b[49m\u001b[43mG_to_add\u001b[49m\u001b[38;5;241;43m=\u001b[39;49m\u001b[38;5;28;43;01mNone\u001b[39;49;00m\u001b[43m,\u001b[49m\u001b[43mgraph_GraphML_to_add\u001b[49m\u001b[38;5;241;43m=\u001b[39;49m\u001b[43mgraph_GraphML\u001b[49m\u001b[43m,\u001b[49m\n\u001b[1;32m     57\u001b[0m \u001b[43m                       \u001b[49m\u001b[43mverbatim\u001b[49m\u001b[38;5;241;43m=\u001b[39;49m\u001b[38;5;28;43;01mTrue\u001b[39;49;00m\u001b[43m,\u001b[49m\u001b[43m)\u001b[49m\n\u001b[1;32m     58\u001b[0m     save_embeddings(node_embeddings, \u001b[38;5;124mf\u001b[39m\u001b[38;5;124m'\u001b[39m\u001b[38;5;132;01m{\u001b[39;00mdata_dir\u001b[38;5;132;01m}\u001b[39;00m\u001b[38;5;124m/\u001b[39m\u001b[38;5;132;01m{\u001b[39;00membedding_file\u001b[38;5;132;01m}\u001b[39;00m\u001b[38;5;124m'\u001b[39m)\n\u001b[1;32m     62\u001b[0m \u001b[38;5;28;01melse\u001b[39;00m:\n",
      "File \u001b[0;32m~/pool/.conda/envs/llm/lib/python3.12/site-packages/GraphReasoning/graph_generation.py:305\u001b[0m, in \u001b[0;36madd_new_subgraph_from_text\u001b[0;34m(txt, generate, generate_figure, image_list, node_embeddings, tokenizer, model, original_graph, data_dir_output, graph_root, chunk_size, chunk_overlap, do_update_node_embeddings, do_distill, do_simplify_graph, size_threshold, repeat_refine, similarity_threshold, do_Louvain_on_new_graph, return_only_giant_component, save_common_graph, G_to_add, graph_GraphML_to_add, verbatim)\u001b[0m\n\u001b[1;32m    303\u001b[0m     \u001b[38;5;28;01mif\u001b[39;00m verbatim:\n\u001b[1;32m    304\u001b[0m         \u001b[38;5;28mprint\u001b[39m (\u001b[38;5;124m\"\u001b[39m\u001b[38;5;124mNow simplify graph.\u001b[39m\u001b[38;5;124m\"\u001b[39m)\n\u001b[0;32m--> 305\u001b[0m     G_new, node_embeddings \u001b[38;5;241m=\u001b[39m\u001b[43msimplify_graph\u001b[49m\u001b[43m \u001b[49m\u001b[43m(\u001b[49m\u001b[43mG_new\u001b[49m\u001b[43m,\u001b[49m\u001b[43m \u001b[49m\u001b[43mnode_embeddings\u001b[49m\u001b[43m,\u001b[49m\u001b[43m \u001b[49m\u001b[43mtokenizer\u001b[49m\u001b[43m,\u001b[49m\u001b[43m \u001b[49m\u001b[43mmodel\u001b[49m\u001b[43m \u001b[49m\u001b[43m,\u001b[49m\u001b[43m \u001b[49m\n\u001b[1;32m    306\u001b[0m \u001b[43m                                            \u001b[49m\u001b[43msimilarity_threshold\u001b[49m\u001b[38;5;241;43m=\u001b[39;49m\u001b[43msimilarity_threshold\u001b[49m\u001b[43m,\u001b[49m\u001b[43m \u001b[49m\u001b[43muse_llm\u001b[49m\u001b[38;5;241;43m=\u001b[39;49m\u001b[38;5;28;43;01mFalse\u001b[39;49;00m\u001b[43m,\u001b[49m\u001b[43m \u001b[49m\u001b[43mdata_dir_output\u001b[49m\u001b[38;5;241;43m=\u001b[39;49m\u001b[43mdata_dir_output\u001b[49m\u001b[43m,\u001b[49m\n\u001b[1;32m    307\u001b[0m \u001b[43m                            \u001b[49m\u001b[43mverbatim\u001b[49m\u001b[38;5;241;43m=\u001b[39;49m\u001b[43mverbatim\u001b[49m\u001b[43m,\u001b[49m\u001b[43m)\u001b[49m\n\u001b[1;32m    310\u001b[0m \u001b[38;5;28;01mif\u001b[39;00m size_threshold \u001b[38;5;241m>\u001b[39m\u001b[38;5;241m0\u001b[39m:\n\u001b[1;32m    311\u001b[0m     \u001b[38;5;28;01mif\u001b[39;00m verbatim:\n",
      "File \u001b[0;32m~/pool/.conda/envs/llm/lib/python3.12/site-packages/GraphReasoning/graph_tools.py:795\u001b[0m, in \u001b[0;36msimplify_graph\u001b[0;34m(graph_, node_embeddings, tokenizer, model, similarity_threshold, use_llm, data_dir_output, graph_root, verbatim, max_tokens, temperature, generate)\u001b[0m\n\u001b[1;32m    793\u001b[0m new_graph\u001b[38;5;241m.\u001b[39msubgraph(nodes_to_recalculate)\n\u001b[1;32m    794\u001b[0m \u001b[38;5;66;03m# Recalculate embeddings for nodes that have been merged or renamed.\u001b[39;00m\n\u001b[0;32m--> 795\u001b[0m recalculated_embeddings \u001b[38;5;241m=\u001b[39m \u001b[43mgenerate_node_embeddings\u001b[49m\u001b[43m(\u001b[49m\u001b[43mnew_graph\u001b[49m\u001b[38;5;241;43m.\u001b[39;49m\u001b[43mnodes\u001b[49m\u001b[43m(\u001b[49m\u001b[43m)\u001b[49m\u001b[43m,\u001b[49m\u001b[43m \u001b[49m\u001b[43mtokenizer\u001b[49m\u001b[43m,\u001b[49m\u001b[43m \u001b[49m\u001b[43mmodel\u001b[49m\u001b[43m)\u001b[49m\n\u001b[1;32m    796\u001b[0m \u001b[38;5;28;01mif\u001b[39;00m verbatim:\n\u001b[1;32m    797\u001b[0m     \u001b[38;5;28mprint\u001b[39m (\u001b[38;5;124m\"\u001b[39m\u001b[38;5;124mRelcaulated embeddings... \u001b[39m\u001b[38;5;124m\"\u001b[39m)\n",
      "File \u001b[0;32m~/pool/.conda/envs/llm/lib/python3.12/site-packages/GraphReasoning/graph_tools.py:42\u001b[0m, in \u001b[0;36mgenerate_node_embeddings\u001b[0;34m(nodes, tokenizer, model, embeddings)\u001b[0m\n\u001b[1;32m     36\u001b[0m \u001b[38;5;28;01mfor\u001b[39;00m node \u001b[38;5;129;01min\u001b[39;00m tqdm(nodes):\n\u001b[1;32m     37\u001b[0m     inputs \u001b[38;5;241m=\u001b[39m tokenizer(\u001b[38;5;28mstr\u001b[39m(node),\n\u001b[1;32m     38\u001b[0m     padding\u001b[38;5;241m=\u001b[39m\u001b[38;5;28;01mTrue\u001b[39;00m,\n\u001b[1;32m     39\u001b[0m     truncation\u001b[38;5;241m=\u001b[39m\u001b[38;5;28;01mTrue\u001b[39;00m,\n\u001b[1;32m     40\u001b[0m     return_tensors\u001b[38;5;241m=\u001b[39m\u001b[38;5;124m\"\u001b[39m\u001b[38;5;124mpt\u001b[39m\u001b[38;5;124m\"\u001b[39m\n\u001b[1;32m     41\u001b[0m     )\u001b[38;5;241m.\u001b[39mto(\u001b[38;5;124m'\u001b[39m\u001b[38;5;124mcuda\u001b[39m\u001b[38;5;124m'\u001b[39m)\n\u001b[0;32m---> 42\u001b[0m     outputs \u001b[38;5;241m=\u001b[39m \u001b[43mmodel\u001b[49m\u001b[43m(\u001b[49m\u001b[38;5;241;43m*\u001b[39;49m\u001b[38;5;241;43m*\u001b[39;49m\u001b[43minputs\u001b[49m\u001b[43m)\u001b[49m\n\u001b[1;32m     43\u001b[0m     \u001b[38;5;28;01mtry\u001b[39;00m:\n\u001b[1;32m     44\u001b[0m         embeddings[node] \u001b[38;5;241m=\u001b[39m outputs\u001b[38;5;241m.\u001b[39mlast_hidden_state\u001b[38;5;241m.\u001b[39mmean(dim\u001b[38;5;241m=\u001b[39m\u001b[38;5;241m1\u001b[39m)\u001b[38;5;241m.\u001b[39mdetach()\u001b[38;5;241m.\u001b[39mnumpy()\n",
      "File \u001b[0;32m~/pool/.conda/envs/llm/lib/python3.12/site-packages/torch/nn/modules/module.py:1739\u001b[0m, in \u001b[0;36mModule._wrapped_call_impl\u001b[0;34m(self, *args, **kwargs)\u001b[0m\n\u001b[1;32m   1737\u001b[0m     \u001b[38;5;28;01mreturn\u001b[39;00m \u001b[38;5;28mself\u001b[39m\u001b[38;5;241m.\u001b[39m_compiled_call_impl(\u001b[38;5;241m*\u001b[39margs, \u001b[38;5;241m*\u001b[39m\u001b[38;5;241m*\u001b[39mkwargs)  \u001b[38;5;66;03m# type: ignore[misc]\u001b[39;00m\n\u001b[1;32m   1738\u001b[0m \u001b[38;5;28;01melse\u001b[39;00m:\n\u001b[0;32m-> 1739\u001b[0m     \u001b[38;5;28;01mreturn\u001b[39;00m \u001b[38;5;28;43mself\u001b[39;49m\u001b[38;5;241;43m.\u001b[39;49m\u001b[43m_call_impl\u001b[49m\u001b[43m(\u001b[49m\u001b[38;5;241;43m*\u001b[39;49m\u001b[43margs\u001b[49m\u001b[43m,\u001b[49m\u001b[43m \u001b[49m\u001b[38;5;241;43m*\u001b[39;49m\u001b[38;5;241;43m*\u001b[39;49m\u001b[43mkwargs\u001b[49m\u001b[43m)\u001b[49m\n",
      "File \u001b[0;32m~/pool/.conda/envs/llm/lib/python3.12/site-packages/torch/nn/modules/module.py:1750\u001b[0m, in \u001b[0;36mModule._call_impl\u001b[0;34m(self, *args, **kwargs)\u001b[0m\n\u001b[1;32m   1745\u001b[0m \u001b[38;5;66;03m# If we don't have any hooks, we want to skip the rest of the logic in\u001b[39;00m\n\u001b[1;32m   1746\u001b[0m \u001b[38;5;66;03m# this function, and just call forward.\u001b[39;00m\n\u001b[1;32m   1747\u001b[0m \u001b[38;5;28;01mif\u001b[39;00m \u001b[38;5;129;01mnot\u001b[39;00m (\u001b[38;5;28mself\u001b[39m\u001b[38;5;241m.\u001b[39m_backward_hooks \u001b[38;5;129;01mor\u001b[39;00m \u001b[38;5;28mself\u001b[39m\u001b[38;5;241m.\u001b[39m_backward_pre_hooks \u001b[38;5;129;01mor\u001b[39;00m \u001b[38;5;28mself\u001b[39m\u001b[38;5;241m.\u001b[39m_forward_hooks \u001b[38;5;129;01mor\u001b[39;00m \u001b[38;5;28mself\u001b[39m\u001b[38;5;241m.\u001b[39m_forward_pre_hooks\n\u001b[1;32m   1748\u001b[0m         \u001b[38;5;129;01mor\u001b[39;00m _global_backward_pre_hooks \u001b[38;5;129;01mor\u001b[39;00m _global_backward_hooks\n\u001b[1;32m   1749\u001b[0m         \u001b[38;5;129;01mor\u001b[39;00m _global_forward_hooks \u001b[38;5;129;01mor\u001b[39;00m _global_forward_pre_hooks):\n\u001b[0;32m-> 1750\u001b[0m     \u001b[38;5;28;01mreturn\u001b[39;00m \u001b[43mforward_call\u001b[49m\u001b[43m(\u001b[49m\u001b[38;5;241;43m*\u001b[39;49m\u001b[43margs\u001b[49m\u001b[43m,\u001b[49m\u001b[43m \u001b[49m\u001b[38;5;241;43m*\u001b[39;49m\u001b[38;5;241;43m*\u001b[39;49m\u001b[43mkwargs\u001b[49m\u001b[43m)\u001b[49m\n\u001b[1;32m   1752\u001b[0m result \u001b[38;5;241m=\u001b[39m \u001b[38;5;28;01mNone\u001b[39;00m\n\u001b[1;32m   1753\u001b[0m called_always_called_hooks \u001b[38;5;241m=\u001b[39m \u001b[38;5;28mset\u001b[39m()\n",
      "File \u001b[0;32m~/pool/.conda/envs/llm/lib/python3.12/site-packages/transformers/models/llama/modeling_llama.py:834\u001b[0m, in \u001b[0;36mLlamaForCausalLM.forward\u001b[0;34m(self, input_ids, attention_mask, position_ids, past_key_values, inputs_embeds, labels, use_cache, output_attentions, output_hidden_states, return_dict, cache_position, num_logits_to_keep, **kwargs)\u001b[0m\n\u001b[1;32m    831\u001b[0m return_dict \u001b[38;5;241m=\u001b[39m return_dict \u001b[38;5;28;01mif\u001b[39;00m return_dict \u001b[38;5;129;01mis\u001b[39;00m \u001b[38;5;129;01mnot\u001b[39;00m \u001b[38;5;28;01mNone\u001b[39;00m \u001b[38;5;28;01melse\u001b[39;00m \u001b[38;5;28mself\u001b[39m\u001b[38;5;241m.\u001b[39mconfig\u001b[38;5;241m.\u001b[39muse_return_dict\n\u001b[1;32m    833\u001b[0m \u001b[38;5;66;03m# decoder outputs consists of (dec_features, layer_state, dec_hidden, dec_attn)\u001b[39;00m\n\u001b[0;32m--> 834\u001b[0m outputs \u001b[38;5;241m=\u001b[39m \u001b[38;5;28;43mself\u001b[39;49m\u001b[38;5;241;43m.\u001b[39;49m\u001b[43mmodel\u001b[49m\u001b[43m(\u001b[49m\n\u001b[1;32m    835\u001b[0m \u001b[43m    \u001b[49m\u001b[43minput_ids\u001b[49m\u001b[38;5;241;43m=\u001b[39;49m\u001b[43minput_ids\u001b[49m\u001b[43m,\u001b[49m\n\u001b[1;32m    836\u001b[0m \u001b[43m    \u001b[49m\u001b[43mattention_mask\u001b[49m\u001b[38;5;241;43m=\u001b[39;49m\u001b[43mattention_mask\u001b[49m\u001b[43m,\u001b[49m\n\u001b[1;32m    837\u001b[0m \u001b[43m    \u001b[49m\u001b[43mposition_ids\u001b[49m\u001b[38;5;241;43m=\u001b[39;49m\u001b[43mposition_ids\u001b[49m\u001b[43m,\u001b[49m\n\u001b[1;32m    838\u001b[0m \u001b[43m    \u001b[49m\u001b[43mpast_key_values\u001b[49m\u001b[38;5;241;43m=\u001b[39;49m\u001b[43mpast_key_values\u001b[49m\u001b[43m,\u001b[49m\n\u001b[1;32m    839\u001b[0m \u001b[43m    \u001b[49m\u001b[43minputs_embeds\u001b[49m\u001b[38;5;241;43m=\u001b[39;49m\u001b[43minputs_embeds\u001b[49m\u001b[43m,\u001b[49m\n\u001b[1;32m    840\u001b[0m \u001b[43m    \u001b[49m\u001b[43muse_cache\u001b[49m\u001b[38;5;241;43m=\u001b[39;49m\u001b[43muse_cache\u001b[49m\u001b[43m,\u001b[49m\n\u001b[1;32m    841\u001b[0m \u001b[43m    \u001b[49m\u001b[43moutput_attentions\u001b[49m\u001b[38;5;241;43m=\u001b[39;49m\u001b[43moutput_attentions\u001b[49m\u001b[43m,\u001b[49m\n\u001b[1;32m    842\u001b[0m \u001b[43m    \u001b[49m\u001b[43moutput_hidden_states\u001b[49m\u001b[38;5;241;43m=\u001b[39;49m\u001b[43moutput_hidden_states\u001b[49m\u001b[43m,\u001b[49m\n\u001b[1;32m    843\u001b[0m \u001b[43m    \u001b[49m\u001b[43mreturn_dict\u001b[49m\u001b[38;5;241;43m=\u001b[39;49m\u001b[43mreturn_dict\u001b[49m\u001b[43m,\u001b[49m\n\u001b[1;32m    844\u001b[0m \u001b[43m    \u001b[49m\u001b[43mcache_position\u001b[49m\u001b[38;5;241;43m=\u001b[39;49m\u001b[43mcache_position\u001b[49m\u001b[43m,\u001b[49m\n\u001b[1;32m    845\u001b[0m \u001b[43m    \u001b[49m\u001b[38;5;241;43m*\u001b[39;49m\u001b[38;5;241;43m*\u001b[39;49m\u001b[43mkwargs\u001b[49m\u001b[43m,\u001b[49m\n\u001b[1;32m    846\u001b[0m \u001b[43m\u001b[49m\u001b[43m)\u001b[49m\n\u001b[1;32m    848\u001b[0m hidden_states \u001b[38;5;241m=\u001b[39m outputs[\u001b[38;5;241m0\u001b[39m]\n\u001b[1;32m    849\u001b[0m \u001b[38;5;66;03m# Only compute necessary logits, and do not upcast them to float if we are not computing the loss\u001b[39;00m\n",
      "File \u001b[0;32m~/pool/.conda/envs/llm/lib/python3.12/site-packages/torch/nn/modules/module.py:1739\u001b[0m, in \u001b[0;36mModule._wrapped_call_impl\u001b[0;34m(self, *args, **kwargs)\u001b[0m\n\u001b[1;32m   1737\u001b[0m     \u001b[38;5;28;01mreturn\u001b[39;00m \u001b[38;5;28mself\u001b[39m\u001b[38;5;241m.\u001b[39m_compiled_call_impl(\u001b[38;5;241m*\u001b[39margs, \u001b[38;5;241m*\u001b[39m\u001b[38;5;241m*\u001b[39mkwargs)  \u001b[38;5;66;03m# type: ignore[misc]\u001b[39;00m\n\u001b[1;32m   1738\u001b[0m \u001b[38;5;28;01melse\u001b[39;00m:\n\u001b[0;32m-> 1739\u001b[0m     \u001b[38;5;28;01mreturn\u001b[39;00m \u001b[38;5;28;43mself\u001b[39;49m\u001b[38;5;241;43m.\u001b[39;49m\u001b[43m_call_impl\u001b[49m\u001b[43m(\u001b[49m\u001b[38;5;241;43m*\u001b[39;49m\u001b[43margs\u001b[49m\u001b[43m,\u001b[49m\u001b[43m \u001b[49m\u001b[38;5;241;43m*\u001b[39;49m\u001b[38;5;241;43m*\u001b[39;49m\u001b[43mkwargs\u001b[49m\u001b[43m)\u001b[49m\n",
      "File \u001b[0;32m~/pool/.conda/envs/llm/lib/python3.12/site-packages/torch/nn/modules/module.py:1750\u001b[0m, in \u001b[0;36mModule._call_impl\u001b[0;34m(self, *args, **kwargs)\u001b[0m\n\u001b[1;32m   1745\u001b[0m \u001b[38;5;66;03m# If we don't have any hooks, we want to skip the rest of the logic in\u001b[39;00m\n\u001b[1;32m   1746\u001b[0m \u001b[38;5;66;03m# this function, and just call forward.\u001b[39;00m\n\u001b[1;32m   1747\u001b[0m \u001b[38;5;28;01mif\u001b[39;00m \u001b[38;5;129;01mnot\u001b[39;00m (\u001b[38;5;28mself\u001b[39m\u001b[38;5;241m.\u001b[39m_backward_hooks \u001b[38;5;129;01mor\u001b[39;00m \u001b[38;5;28mself\u001b[39m\u001b[38;5;241m.\u001b[39m_backward_pre_hooks \u001b[38;5;129;01mor\u001b[39;00m \u001b[38;5;28mself\u001b[39m\u001b[38;5;241m.\u001b[39m_forward_hooks \u001b[38;5;129;01mor\u001b[39;00m \u001b[38;5;28mself\u001b[39m\u001b[38;5;241m.\u001b[39m_forward_pre_hooks\n\u001b[1;32m   1748\u001b[0m         \u001b[38;5;129;01mor\u001b[39;00m _global_backward_pre_hooks \u001b[38;5;129;01mor\u001b[39;00m _global_backward_hooks\n\u001b[1;32m   1749\u001b[0m         \u001b[38;5;129;01mor\u001b[39;00m _global_forward_hooks \u001b[38;5;129;01mor\u001b[39;00m _global_forward_pre_hooks):\n\u001b[0;32m-> 1750\u001b[0m     \u001b[38;5;28;01mreturn\u001b[39;00m \u001b[43mforward_call\u001b[49m\u001b[43m(\u001b[49m\u001b[38;5;241;43m*\u001b[39;49m\u001b[43margs\u001b[49m\u001b[43m,\u001b[49m\u001b[43m \u001b[49m\u001b[38;5;241;43m*\u001b[39;49m\u001b[38;5;241;43m*\u001b[39;49m\u001b[43mkwargs\u001b[49m\u001b[43m)\u001b[49m\n\u001b[1;32m   1752\u001b[0m result \u001b[38;5;241m=\u001b[39m \u001b[38;5;28;01mNone\u001b[39;00m\n\u001b[1;32m   1753\u001b[0m called_always_called_hooks \u001b[38;5;241m=\u001b[39m \u001b[38;5;28mset\u001b[39m()\n",
      "File \u001b[0;32m~/pool/.conda/envs/llm/lib/python3.12/site-packages/transformers/models/llama/modeling_llama.py:592\u001b[0m, in \u001b[0;36mLlamaModel.forward\u001b[0;34m(self, input_ids, attention_mask, position_ids, past_key_values, inputs_embeds, use_cache, output_attentions, output_hidden_states, return_dict, cache_position, **flash_attn_kwargs)\u001b[0m\n\u001b[1;32m    580\u001b[0m     layer_outputs \u001b[38;5;241m=\u001b[39m \u001b[38;5;28mself\u001b[39m\u001b[38;5;241m.\u001b[39m_gradient_checkpointing_func(\n\u001b[1;32m    581\u001b[0m         decoder_layer\u001b[38;5;241m.\u001b[39m\u001b[38;5;21m__call__\u001b[39m,\n\u001b[1;32m    582\u001b[0m         hidden_states,\n\u001b[0;32m   (...)\u001b[0m\n\u001b[1;32m    589\u001b[0m         position_embeddings,\n\u001b[1;32m    590\u001b[0m     )\n\u001b[1;32m    591\u001b[0m \u001b[38;5;28;01melse\u001b[39;00m:\n\u001b[0;32m--> 592\u001b[0m     layer_outputs \u001b[38;5;241m=\u001b[39m \u001b[43mdecoder_layer\u001b[49m\u001b[43m(\u001b[49m\n\u001b[1;32m    593\u001b[0m \u001b[43m        \u001b[49m\u001b[43mhidden_states\u001b[49m\u001b[43m,\u001b[49m\n\u001b[1;32m    594\u001b[0m \u001b[43m        \u001b[49m\u001b[43mattention_mask\u001b[49m\u001b[38;5;241;43m=\u001b[39;49m\u001b[43mcausal_mask\u001b[49m\u001b[43m,\u001b[49m\n\u001b[1;32m    595\u001b[0m \u001b[43m        \u001b[49m\u001b[43mposition_ids\u001b[49m\u001b[38;5;241;43m=\u001b[39;49m\u001b[43mposition_ids\u001b[49m\u001b[43m,\u001b[49m\n\u001b[1;32m    596\u001b[0m \u001b[43m        \u001b[49m\u001b[43mpast_key_value\u001b[49m\u001b[38;5;241;43m=\u001b[39;49m\u001b[43mpast_key_values\u001b[49m\u001b[43m,\u001b[49m\n\u001b[1;32m    597\u001b[0m \u001b[43m        \u001b[49m\u001b[43moutput_attentions\u001b[49m\u001b[38;5;241;43m=\u001b[39;49m\u001b[43moutput_attentions\u001b[49m\u001b[43m,\u001b[49m\n\u001b[1;32m    598\u001b[0m \u001b[43m        \u001b[49m\u001b[43muse_cache\u001b[49m\u001b[38;5;241;43m=\u001b[39;49m\u001b[43muse_cache\u001b[49m\u001b[43m,\u001b[49m\n\u001b[1;32m    599\u001b[0m \u001b[43m        \u001b[49m\u001b[43mcache_position\u001b[49m\u001b[38;5;241;43m=\u001b[39;49m\u001b[43mcache_position\u001b[49m\u001b[43m,\u001b[49m\n\u001b[1;32m    600\u001b[0m \u001b[43m        \u001b[49m\u001b[43mposition_embeddings\u001b[49m\u001b[38;5;241;43m=\u001b[39;49m\u001b[43mposition_embeddings\u001b[49m\u001b[43m,\u001b[49m\n\u001b[1;32m    601\u001b[0m \u001b[43m        \u001b[49m\u001b[38;5;241;43m*\u001b[39;49m\u001b[38;5;241;43m*\u001b[39;49m\u001b[43mflash_attn_kwargs\u001b[49m\u001b[43m,\u001b[49m\n\u001b[1;32m    602\u001b[0m \u001b[43m    \u001b[49m\u001b[43m)\u001b[49m\n\u001b[1;32m    604\u001b[0m hidden_states \u001b[38;5;241m=\u001b[39m layer_outputs[\u001b[38;5;241m0\u001b[39m]\n\u001b[1;32m    606\u001b[0m \u001b[38;5;28;01mif\u001b[39;00m output_attentions:\n",
      "File \u001b[0;32m~/pool/.conda/envs/llm/lib/python3.12/site-packages/torch/nn/modules/module.py:1739\u001b[0m, in \u001b[0;36mModule._wrapped_call_impl\u001b[0;34m(self, *args, **kwargs)\u001b[0m\n\u001b[1;32m   1737\u001b[0m     \u001b[38;5;28;01mreturn\u001b[39;00m \u001b[38;5;28mself\u001b[39m\u001b[38;5;241m.\u001b[39m_compiled_call_impl(\u001b[38;5;241m*\u001b[39margs, \u001b[38;5;241m*\u001b[39m\u001b[38;5;241m*\u001b[39mkwargs)  \u001b[38;5;66;03m# type: ignore[misc]\u001b[39;00m\n\u001b[1;32m   1738\u001b[0m \u001b[38;5;28;01melse\u001b[39;00m:\n\u001b[0;32m-> 1739\u001b[0m     \u001b[38;5;28;01mreturn\u001b[39;00m \u001b[38;5;28;43mself\u001b[39;49m\u001b[38;5;241;43m.\u001b[39;49m\u001b[43m_call_impl\u001b[49m\u001b[43m(\u001b[49m\u001b[38;5;241;43m*\u001b[39;49m\u001b[43margs\u001b[49m\u001b[43m,\u001b[49m\u001b[43m \u001b[49m\u001b[38;5;241;43m*\u001b[39;49m\u001b[38;5;241;43m*\u001b[39;49m\u001b[43mkwargs\u001b[49m\u001b[43m)\u001b[49m\n",
      "File \u001b[0;32m~/pool/.conda/envs/llm/lib/python3.12/site-packages/torch/nn/modules/module.py:1750\u001b[0m, in \u001b[0;36mModule._call_impl\u001b[0;34m(self, *args, **kwargs)\u001b[0m\n\u001b[1;32m   1745\u001b[0m \u001b[38;5;66;03m# If we don't have any hooks, we want to skip the rest of the logic in\u001b[39;00m\n\u001b[1;32m   1746\u001b[0m \u001b[38;5;66;03m# this function, and just call forward.\u001b[39;00m\n\u001b[1;32m   1747\u001b[0m \u001b[38;5;28;01mif\u001b[39;00m \u001b[38;5;129;01mnot\u001b[39;00m (\u001b[38;5;28mself\u001b[39m\u001b[38;5;241m.\u001b[39m_backward_hooks \u001b[38;5;129;01mor\u001b[39;00m \u001b[38;5;28mself\u001b[39m\u001b[38;5;241m.\u001b[39m_backward_pre_hooks \u001b[38;5;129;01mor\u001b[39;00m \u001b[38;5;28mself\u001b[39m\u001b[38;5;241m.\u001b[39m_forward_hooks \u001b[38;5;129;01mor\u001b[39;00m \u001b[38;5;28mself\u001b[39m\u001b[38;5;241m.\u001b[39m_forward_pre_hooks\n\u001b[1;32m   1748\u001b[0m         \u001b[38;5;129;01mor\u001b[39;00m _global_backward_pre_hooks \u001b[38;5;129;01mor\u001b[39;00m _global_backward_hooks\n\u001b[1;32m   1749\u001b[0m         \u001b[38;5;129;01mor\u001b[39;00m _global_forward_hooks \u001b[38;5;129;01mor\u001b[39;00m _global_forward_pre_hooks):\n\u001b[0;32m-> 1750\u001b[0m     \u001b[38;5;28;01mreturn\u001b[39;00m \u001b[43mforward_call\u001b[49m\u001b[43m(\u001b[49m\u001b[38;5;241;43m*\u001b[39;49m\u001b[43margs\u001b[49m\u001b[43m,\u001b[49m\u001b[43m \u001b[49m\u001b[38;5;241;43m*\u001b[39;49m\u001b[38;5;241;43m*\u001b[39;49m\u001b[43mkwargs\u001b[49m\u001b[43m)\u001b[49m\n\u001b[1;32m   1752\u001b[0m result \u001b[38;5;241m=\u001b[39m \u001b[38;5;28;01mNone\u001b[39;00m\n\u001b[1;32m   1753\u001b[0m called_always_called_hooks \u001b[38;5;241m=\u001b[39m \u001b[38;5;28mset\u001b[39m()\n",
      "File \u001b[0;32m~/pool/.conda/envs/llm/lib/python3.12/site-packages/transformers/models/llama/modeling_llama.py:351\u001b[0m, in \u001b[0;36mLlamaDecoderLayer.forward\u001b[0;34m(self, hidden_states, attention_mask, position_ids, past_key_value, output_attentions, use_cache, cache_position, position_embeddings, **kwargs)\u001b[0m\n\u001b[1;32m    349\u001b[0m residual \u001b[38;5;241m=\u001b[39m hidden_states\n\u001b[1;32m    350\u001b[0m hidden_states \u001b[38;5;241m=\u001b[39m \u001b[38;5;28mself\u001b[39m\u001b[38;5;241m.\u001b[39mpost_attention_layernorm(hidden_states)\n\u001b[0;32m--> 351\u001b[0m hidden_states \u001b[38;5;241m=\u001b[39m \u001b[38;5;28;43mself\u001b[39;49m\u001b[38;5;241;43m.\u001b[39;49m\u001b[43mmlp\u001b[49m\u001b[43m(\u001b[49m\u001b[43mhidden_states\u001b[49m\u001b[43m)\u001b[49m\n\u001b[1;32m    352\u001b[0m hidden_states \u001b[38;5;241m=\u001b[39m residual \u001b[38;5;241m+\u001b[39m hidden_states\n\u001b[1;32m    354\u001b[0m outputs \u001b[38;5;241m=\u001b[39m (hidden_states,)\n",
      "File \u001b[0;32m~/pool/.conda/envs/llm/lib/python3.12/site-packages/torch/nn/modules/module.py:1739\u001b[0m, in \u001b[0;36mModule._wrapped_call_impl\u001b[0;34m(self, *args, **kwargs)\u001b[0m\n\u001b[1;32m   1737\u001b[0m     \u001b[38;5;28;01mreturn\u001b[39;00m \u001b[38;5;28mself\u001b[39m\u001b[38;5;241m.\u001b[39m_compiled_call_impl(\u001b[38;5;241m*\u001b[39margs, \u001b[38;5;241m*\u001b[39m\u001b[38;5;241m*\u001b[39mkwargs)  \u001b[38;5;66;03m# type: ignore[misc]\u001b[39;00m\n\u001b[1;32m   1738\u001b[0m \u001b[38;5;28;01melse\u001b[39;00m:\n\u001b[0;32m-> 1739\u001b[0m     \u001b[38;5;28;01mreturn\u001b[39;00m \u001b[38;5;28;43mself\u001b[39;49m\u001b[38;5;241;43m.\u001b[39;49m\u001b[43m_call_impl\u001b[49m\u001b[43m(\u001b[49m\u001b[38;5;241;43m*\u001b[39;49m\u001b[43margs\u001b[49m\u001b[43m,\u001b[49m\u001b[43m \u001b[49m\u001b[38;5;241;43m*\u001b[39;49m\u001b[38;5;241;43m*\u001b[39;49m\u001b[43mkwargs\u001b[49m\u001b[43m)\u001b[49m\n",
      "File \u001b[0;32m~/pool/.conda/envs/llm/lib/python3.12/site-packages/torch/nn/modules/module.py:1750\u001b[0m, in \u001b[0;36mModule._call_impl\u001b[0;34m(self, *args, **kwargs)\u001b[0m\n\u001b[1;32m   1745\u001b[0m \u001b[38;5;66;03m# If we don't have any hooks, we want to skip the rest of the logic in\u001b[39;00m\n\u001b[1;32m   1746\u001b[0m \u001b[38;5;66;03m# this function, and just call forward.\u001b[39;00m\n\u001b[1;32m   1747\u001b[0m \u001b[38;5;28;01mif\u001b[39;00m \u001b[38;5;129;01mnot\u001b[39;00m (\u001b[38;5;28mself\u001b[39m\u001b[38;5;241m.\u001b[39m_backward_hooks \u001b[38;5;129;01mor\u001b[39;00m \u001b[38;5;28mself\u001b[39m\u001b[38;5;241m.\u001b[39m_backward_pre_hooks \u001b[38;5;129;01mor\u001b[39;00m \u001b[38;5;28mself\u001b[39m\u001b[38;5;241m.\u001b[39m_forward_hooks \u001b[38;5;129;01mor\u001b[39;00m \u001b[38;5;28mself\u001b[39m\u001b[38;5;241m.\u001b[39m_forward_pre_hooks\n\u001b[1;32m   1748\u001b[0m         \u001b[38;5;129;01mor\u001b[39;00m _global_backward_pre_hooks \u001b[38;5;129;01mor\u001b[39;00m _global_backward_hooks\n\u001b[1;32m   1749\u001b[0m         \u001b[38;5;129;01mor\u001b[39;00m _global_forward_hooks \u001b[38;5;129;01mor\u001b[39;00m _global_forward_pre_hooks):\n\u001b[0;32m-> 1750\u001b[0m     \u001b[38;5;28;01mreturn\u001b[39;00m \u001b[43mforward_call\u001b[49m\u001b[43m(\u001b[49m\u001b[38;5;241;43m*\u001b[39;49m\u001b[43margs\u001b[49m\u001b[43m,\u001b[49m\u001b[43m \u001b[49m\u001b[38;5;241;43m*\u001b[39;49m\u001b[38;5;241;43m*\u001b[39;49m\u001b[43mkwargs\u001b[49m\u001b[43m)\u001b[49m\n\u001b[1;32m   1752\u001b[0m result \u001b[38;5;241m=\u001b[39m \u001b[38;5;28;01mNone\u001b[39;00m\n\u001b[1;32m   1753\u001b[0m called_always_called_hooks \u001b[38;5;241m=\u001b[39m \u001b[38;5;28mset\u001b[39m()\n",
      "File \u001b[0;32m~/pool/.conda/envs/llm/lib/python3.12/site-packages/transformers/models/llama/modeling_llama.py:189\u001b[0m, in \u001b[0;36mLlamaMLP.forward\u001b[0;34m(self, x)\u001b[0m\n\u001b[1;32m    188\u001b[0m \u001b[38;5;28;01mdef\u001b[39;00m\u001b[38;5;250m \u001b[39m\u001b[38;5;21mforward\u001b[39m(\u001b[38;5;28mself\u001b[39m, x):\n\u001b[0;32m--> 189\u001b[0m     down_proj \u001b[38;5;241m=\u001b[39m \u001b[38;5;28mself\u001b[39m\u001b[38;5;241m.\u001b[39mdown_proj(\u001b[38;5;28mself\u001b[39m\u001b[38;5;241m.\u001b[39mact_fn(\u001b[38;5;28;43mself\u001b[39;49m\u001b[38;5;241;43m.\u001b[39;49m\u001b[43mgate_proj\u001b[49m\u001b[43m(\u001b[49m\u001b[43mx\u001b[49m\u001b[43m)\u001b[49m) \u001b[38;5;241m*\u001b[39m \u001b[38;5;28mself\u001b[39m\u001b[38;5;241m.\u001b[39mup_proj(x))\n\u001b[1;32m    190\u001b[0m     \u001b[38;5;28;01mreturn\u001b[39;00m down_proj\n",
      "File \u001b[0;32m~/pool/.conda/envs/llm/lib/python3.12/site-packages/torch/nn/modules/module.py:1739\u001b[0m, in \u001b[0;36mModule._wrapped_call_impl\u001b[0;34m(self, *args, **kwargs)\u001b[0m\n\u001b[1;32m   1737\u001b[0m     \u001b[38;5;28;01mreturn\u001b[39;00m \u001b[38;5;28mself\u001b[39m\u001b[38;5;241m.\u001b[39m_compiled_call_impl(\u001b[38;5;241m*\u001b[39margs, \u001b[38;5;241m*\u001b[39m\u001b[38;5;241m*\u001b[39mkwargs)  \u001b[38;5;66;03m# type: ignore[misc]\u001b[39;00m\n\u001b[1;32m   1738\u001b[0m \u001b[38;5;28;01melse\u001b[39;00m:\n\u001b[0;32m-> 1739\u001b[0m     \u001b[38;5;28;01mreturn\u001b[39;00m \u001b[38;5;28;43mself\u001b[39;49m\u001b[38;5;241;43m.\u001b[39;49m\u001b[43m_call_impl\u001b[49m\u001b[43m(\u001b[49m\u001b[38;5;241;43m*\u001b[39;49m\u001b[43margs\u001b[49m\u001b[43m,\u001b[49m\u001b[43m \u001b[49m\u001b[38;5;241;43m*\u001b[39;49m\u001b[38;5;241;43m*\u001b[39;49m\u001b[43mkwargs\u001b[49m\u001b[43m)\u001b[49m\n",
      "File \u001b[0;32m~/pool/.conda/envs/llm/lib/python3.12/site-packages/torch/nn/modules/module.py:1750\u001b[0m, in \u001b[0;36mModule._call_impl\u001b[0;34m(self, *args, **kwargs)\u001b[0m\n\u001b[1;32m   1745\u001b[0m \u001b[38;5;66;03m# If we don't have any hooks, we want to skip the rest of the logic in\u001b[39;00m\n\u001b[1;32m   1746\u001b[0m \u001b[38;5;66;03m# this function, and just call forward.\u001b[39;00m\n\u001b[1;32m   1747\u001b[0m \u001b[38;5;28;01mif\u001b[39;00m \u001b[38;5;129;01mnot\u001b[39;00m (\u001b[38;5;28mself\u001b[39m\u001b[38;5;241m.\u001b[39m_backward_hooks \u001b[38;5;129;01mor\u001b[39;00m \u001b[38;5;28mself\u001b[39m\u001b[38;5;241m.\u001b[39m_backward_pre_hooks \u001b[38;5;129;01mor\u001b[39;00m \u001b[38;5;28mself\u001b[39m\u001b[38;5;241m.\u001b[39m_forward_hooks \u001b[38;5;129;01mor\u001b[39;00m \u001b[38;5;28mself\u001b[39m\u001b[38;5;241m.\u001b[39m_forward_pre_hooks\n\u001b[1;32m   1748\u001b[0m         \u001b[38;5;129;01mor\u001b[39;00m _global_backward_pre_hooks \u001b[38;5;129;01mor\u001b[39;00m _global_backward_hooks\n\u001b[1;32m   1749\u001b[0m         \u001b[38;5;129;01mor\u001b[39;00m _global_forward_hooks \u001b[38;5;129;01mor\u001b[39;00m _global_forward_pre_hooks):\n\u001b[0;32m-> 1750\u001b[0m     \u001b[38;5;28;01mreturn\u001b[39;00m \u001b[43mforward_call\u001b[49m\u001b[43m(\u001b[49m\u001b[38;5;241;43m*\u001b[39;49m\u001b[43margs\u001b[49m\u001b[43m,\u001b[49m\u001b[43m \u001b[49m\u001b[38;5;241;43m*\u001b[39;49m\u001b[38;5;241;43m*\u001b[39;49m\u001b[43mkwargs\u001b[49m\u001b[43m)\u001b[49m\n\u001b[1;32m   1752\u001b[0m result \u001b[38;5;241m=\u001b[39m \u001b[38;5;28;01mNone\u001b[39;00m\n\u001b[1;32m   1753\u001b[0m called_always_called_hooks \u001b[38;5;241m=\u001b[39m \u001b[38;5;28mset\u001b[39m()\n",
      "File \u001b[0;32m~/pool/.conda/envs/llm/lib/python3.12/site-packages/gptqmodel/nn_modules/qlinear/torch.py:117\u001b[0m, in \u001b[0;36mTorchQuantLinear.forward\u001b[0;34m(self, x)\u001b[0m\n\u001b[1;32m    115\u001b[0m out_shape \u001b[38;5;241m=\u001b[39m x\u001b[38;5;241m.\u001b[39mshape[:\u001b[38;5;241m-\u001b[39m\u001b[38;5;241m1\u001b[39m] \u001b[38;5;241m+\u001b[39m (\u001b[38;5;28mself\u001b[39m\u001b[38;5;241m.\u001b[39mout_features,)\n\u001b[1;32m    116\u001b[0m x \u001b[38;5;241m=\u001b[39m x\u001b[38;5;241m.\u001b[39mreshape(\u001b[38;5;241m-\u001b[39m\u001b[38;5;241m1\u001b[39m, x\u001b[38;5;241m.\u001b[39mshape[\u001b[38;5;241m-\u001b[39m\u001b[38;5;241m1\u001b[39m])\n\u001b[0;32m--> 117\u001b[0m out \u001b[38;5;241m=\u001b[39m \u001b[38;5;28;43mself\u001b[39;49m\u001b[38;5;241;43m.\u001b[39;49m\u001b[43m_forward\u001b[49m\u001b[43m(\u001b[49m\u001b[43mx\u001b[49m\u001b[43m,\u001b[49m\u001b[43m \u001b[49m\u001b[43mx\u001b[49m\u001b[38;5;241;43m.\u001b[39;49m\u001b[43mdtype\u001b[49m\u001b[43m)\u001b[49m\n\u001b[1;32m    118\u001b[0m out \u001b[38;5;241m=\u001b[39m out\u001b[38;5;241m.\u001b[39mreshape(out_shape)\n\u001b[1;32m    119\u001b[0m \u001b[38;5;28;01mreturn\u001b[39;00m out\n",
      "File \u001b[0;32m~/pool/.conda/envs/llm/lib/python3.12/site-packages/gptqmodel/nn_modules/qlinear/torch.py:123\u001b[0m, in \u001b[0;36mTorchQuantLinear._forward\u001b[0;34m(self, x, x_dtype)\u001b[0m\n\u001b[1;32m    121\u001b[0m \u001b[38;5;28;01mdef\u001b[39;00m\u001b[38;5;250m \u001b[39m\u001b[38;5;21m_forward\u001b[39m(\u001b[38;5;28mself\u001b[39m, x, x_dtype):\n\u001b[1;32m    122\u001b[0m     num_itr \u001b[38;5;241m=\u001b[39m \u001b[38;5;28mself\u001b[39m\u001b[38;5;241m.\u001b[39mg_idx\u001b[38;5;241m.\u001b[39mshape[\u001b[38;5;241m0\u001b[39m] \u001b[38;5;241m/\u001b[39m\u001b[38;5;241m/\u001b[39m x\u001b[38;5;241m.\u001b[39mshape[\u001b[38;5;241m-\u001b[39m\u001b[38;5;241m1\u001b[39m]\n\u001b[0;32m--> 123\u001b[0m     weights \u001b[38;5;241m=\u001b[39m \u001b[38;5;28;43mself\u001b[39;49m\u001b[38;5;241;43m.\u001b[39;49m\u001b[43mdequantize\u001b[49m\u001b[43m(\u001b[49m\u001b[43mnum_itr\u001b[49m\u001b[38;5;241;43m=\u001b[39;49m\u001b[43mnum_itr\u001b[49m\u001b[43m)\u001b[49m\n\u001b[1;32m    125\u001b[0m     out \u001b[38;5;241m=\u001b[39m torch\u001b[38;5;241m.\u001b[39mmatmul(x, weights)\u001b[38;5;241m.\u001b[39mto(x_dtype)\n\u001b[1;32m    126\u001b[0m     \u001b[38;5;28;01mif\u001b[39;00m \u001b[38;5;28mself\u001b[39m\u001b[38;5;241m.\u001b[39mbias \u001b[38;5;129;01mis\u001b[39;00m \u001b[38;5;129;01mnot\u001b[39;00m \u001b[38;5;28;01mNone\u001b[39;00m:\n",
      "File \u001b[0;32m~/pool/.conda/envs/llm/lib/python3.12/site-packages/gptqmodel/nn_modules/qlinear/torch.py:149\u001b[0m, in \u001b[0;36mTorchQuantLinear.dequantize\u001b[0;34m(self, num_itr)\u001b[0m\n\u001b[1;32m    139\u001b[0m     zeros \u001b[38;5;241m=\u001b[39m torch\u001b[38;5;241m.\u001b[39mbitwise_right_shift(\n\u001b[1;32m    140\u001b[0m         torch\u001b[38;5;241m.\u001b[39munsqueeze(\u001b[38;5;28mself\u001b[39m\u001b[38;5;241m.\u001b[39mqzeros, \u001b[38;5;241m2\u001b[39m)\u001b[38;5;241m.\u001b[39mexpand(\u001b[38;5;241m-\u001b[39m\u001b[38;5;241m1\u001b[39m, \u001b[38;5;241m-\u001b[39m\u001b[38;5;241m1\u001b[39m, \u001b[38;5;28mself\u001b[39m\u001b[38;5;241m.\u001b[39mpack_factor),\n\u001b[1;32m    141\u001b[0m         \u001b[38;5;28mself\u001b[39m\u001b[38;5;241m.\u001b[39mwf\u001b[38;5;241m.\u001b[39munsqueeze(\u001b[38;5;241m0\u001b[39m),\n\u001b[1;32m    142\u001b[0m     )\u001b[38;5;241m.\u001b[39mto(\u001b[38;5;28mself\u001b[39m\u001b[38;5;241m.\u001b[39mdequant_dtype)\n\u001b[1;32m    143\u001b[0m     zeros \u001b[38;5;241m=\u001b[39m torch\u001b[38;5;241m.\u001b[39mbitwise_and(zeros, \u001b[38;5;28mself\u001b[39m\u001b[38;5;241m.\u001b[39mmaxq)\u001b[38;5;241m.\u001b[39mreshape(\u001b[38;5;28mself\u001b[39m\u001b[38;5;241m.\u001b[39mscales\u001b[38;5;241m.\u001b[39mshape)\n\u001b[1;32m    145\u001b[0m     weight \u001b[38;5;241m=\u001b[39m torch\u001b[38;5;241m.\u001b[39mbitwise_and(\n\u001b[1;32m    146\u001b[0m         \u001b[43mtorch\u001b[49m\u001b[38;5;241;43m.\u001b[39;49m\u001b[43mbitwise_right_shift\u001b[49m\u001b[43m(\u001b[49m\n\u001b[1;32m    147\u001b[0m \u001b[43m            \u001b[49m\u001b[43mtorch\u001b[49m\u001b[38;5;241;43m.\u001b[39;49m\u001b[43munsqueeze\u001b[49m\u001b[43m(\u001b[49m\u001b[38;5;28;43mself\u001b[39;49m\u001b[38;5;241;43m.\u001b[39;49m\u001b[43mqweight\u001b[49m\u001b[43m,\u001b[49m\u001b[43m \u001b[49m\u001b[38;5;241;43m1\u001b[39;49m\u001b[43m)\u001b[49m\u001b[38;5;241;43m.\u001b[39;49m\u001b[43mexpand\u001b[49m\u001b[43m(\u001b[49m\u001b[38;5;241;43m-\u001b[39;49m\u001b[38;5;241;43m1\u001b[39;49m\u001b[43m,\u001b[49m\u001b[43m \u001b[49m\u001b[38;5;28;43mself\u001b[39;49m\u001b[38;5;241;43m.\u001b[39;49m\u001b[43mpack_factor\u001b[49m\u001b[43m,\u001b[49m\u001b[43m \u001b[49m\u001b[38;5;241;43m-\u001b[39;49m\u001b[38;5;241;43m1\u001b[39;49m\u001b[43m)\u001b[49m\u001b[43m,\u001b[49m\n\u001b[1;32m    148\u001b[0m \u001b[43m            \u001b[49m\u001b[38;5;28;43mself\u001b[39;49m\u001b[38;5;241;43m.\u001b[39;49m\u001b[43mwf\u001b[49m\u001b[38;5;241;43m.\u001b[39;49m\u001b[43munsqueeze\u001b[49m\u001b[43m(\u001b[49m\u001b[38;5;241;43m-\u001b[39;49m\u001b[38;5;241;43m1\u001b[39;49m\u001b[43m)\u001b[49m\u001b[43m,\u001b[49m\n\u001b[0;32m--> 149\u001b[0m \u001b[43m        \u001b[49m\u001b[43m)\u001b[49m\u001b[38;5;241;43m.\u001b[39;49m\u001b[43mto\u001b[49m\u001b[43m(\u001b[49m\u001b[38;5;28;43mself\u001b[39;49m\u001b[38;5;241;43m.\u001b[39;49m\u001b[43mdequant_dtype\u001b[49m\u001b[43m)\u001b[49m,\n\u001b[1;32m    150\u001b[0m         \u001b[38;5;28mself\u001b[39m\u001b[38;5;241m.\u001b[39mmaxq\n\u001b[1;32m    151\u001b[0m     )\n\u001b[1;32m    152\u001b[0m \u001b[38;5;28;01melif\u001b[39;00m \u001b[38;5;28mself\u001b[39m\u001b[38;5;241m.\u001b[39mbits \u001b[38;5;241m==\u001b[39m \u001b[38;5;241m3\u001b[39m:\n\u001b[1;32m    153\u001b[0m     zeros \u001b[38;5;241m=\u001b[39m \u001b[38;5;28mself\u001b[39m\u001b[38;5;241m.\u001b[39mqzeros\u001b[38;5;241m.\u001b[39mreshape(\u001b[38;5;28mself\u001b[39m\u001b[38;5;241m.\u001b[39mqzeros\u001b[38;5;241m.\u001b[39mshape[\u001b[38;5;241m0\u001b[39m], \u001b[38;5;28mself\u001b[39m\u001b[38;5;241m.\u001b[39mqzeros\u001b[38;5;241m.\u001b[39mshape[\u001b[38;5;241m1\u001b[39m] \u001b[38;5;241m/\u001b[39m\u001b[38;5;241m/\u001b[39m \u001b[38;5;241m3\u001b[39m, \u001b[38;5;241m3\u001b[39m, \u001b[38;5;241m1\u001b[39m)\u001b[38;5;241m.\u001b[39mexpand(\n\u001b[1;32m    154\u001b[0m         \u001b[38;5;241m-\u001b[39m\u001b[38;5;241m1\u001b[39m, \u001b[38;5;241m-\u001b[39m\u001b[38;5;241m1\u001b[39m, \u001b[38;5;241m-\u001b[39m\u001b[38;5;241m1\u001b[39m, \u001b[38;5;241m12\u001b[39m\n\u001b[1;32m    155\u001b[0m     )\n",
      "\u001b[0;31mKeyboardInterrupt\u001b[0m: "
     ]
    }
   ],
   "source": [
    "import networkx as nx\n",
    "\n",
    "from GraphReasoning import make_graph_from_text, add_new_subgraph_from_text, save_embeddings\n",
    "\n",
    "import numpy as np\n",
    "import sys\n",
    "\n",
    "try:\n",
    "    doc_i = int(sys.argv[1])\n",
    "    doc_list = [doc_list[doc_i]]  # quick hack from existing codes to generate only one knowledge graph at a time.\n",
    "except: \n",
    "    # If no doc index is specified, it by default will go through all the documents and bad for parallel operations, but this is bad for parallel operation so it's banned.\n",
    "    # raise Exception(\"No index provided. Abort\")\n",
    "    pass\n",
    "\n",
    "with torch.no_grad():\n",
    "    for i, doc in enumerate(doc_list):\n",
    "\n",
    "        title = doc.split('/')[-1].split('.md')[0]\n",
    "        graph_root = f'{title}'\n",
    "\n",
    "        _graph_GraphML= f'{data_dir_output}/{graph_root}_augmented_graphML_integrated.graphml'\n",
    "        txt=''\n",
    "        # print(f'{doc}')\n",
    "        image_list = glob.glob('/'.join(doc.split('/')[:-1])+'/*png')\n",
    "        # break\n",
    "        if os.path.exists(_graph_GraphML):\n",
    "            G = nx.read_graphml(_graph_GraphML)\n",
    "            print(f'Main KG loaded: {_graph_GraphML}, {G}')\n",
    "            continue\n",
    "        elif i == 0:\n",
    "            G = nx.DiGraph()\n",
    "            \n",
    "\n",
    "        if os.path.exists(f'{title}_err.txt'):\n",
    "            print(f'No. {i}: {title} got something wrong.')\n",
    "            continue\n",
    "\n",
    "        elif os.path.exists(f'{data_dir}/{graph_root}_graph.graphml'):\n",
    "            print(f'Found a graph fragment to merge: {graph_root}: {doc}.')\n",
    "            graph_GraphML = f'{data_dir}/{graph_root}_graph.graphml'\n",
    "\n",
    "            print(f'Merging graph No. {i}: {doc} to the main one')\n",
    "            # try:\n",
    "            print(G)\n",
    "            _, G, _, node_embeddings, _ = add_new_subgraph_from_text(txt='',\n",
    "                               node_embeddings=node_embeddings,\n",
    "                               tokenizer=embedding_tokenizer,\n",
    "                               model=embedding_model,\n",
    "                               original_graph=G, data_dir_output=data_dir_output, graph_root=graph_root,\n",
    "                               do_simplify_graph=True,size_threshold=10,\n",
    "                               repeat_refine=0,similarity_threshold=0.97,\n",
    "                               do_Louvain_on_new_graph=True,\n",
    "                               #whether or not to simplify, uses similiraty_threshold defined above\n",
    "                               return_only_giant_component=False,\n",
    "                               save_common_graph=False,G_to_add=None,graph_GraphML_to_add=graph_GraphML,\n",
    "                               verbatim=True,)\n",
    "            save_embeddings(node_embeddings, f'{data_dir}/{embedding_file}')\n",
    "                \n",
    "\n",
    "\n",
    "        else:\n",
    "            continue\n",
    "            print(f'Generating a knowledge graph from {doc}')\n",
    "            with open(doc, \"r\") as f:\n",
    "                txt = \" \".join(f.read().splitlines())  # separate lines with a single space\n",
    "\n",
    "            _, graph_GraphML, _, _, _ = make_graph_from_text(txt,generate,\n",
    "                                  generate_figure, image_list,\n",
    "                                  graph_root=graph_root,\n",
    "                                  chunk_size=2000,chunk_overlap=500,\n",
    "                                  repeat_refine=0,verbatim=False,\n",
    "                                  data_dir=data_dir,\n",
    "                                  save_PDF=False,#TO DO\n",
    "                                 )\n",
    " \n",
    "\n",
    "\n"
   ]
  },
  {
   "cell_type": "code",
   "execution_count": null,
   "id": "6263631d-e3ac-4def-9bec-2b46b5bf27a1",
   "metadata": {
    "tags": []
   },
   "outputs": [],
   "source": [
    "# # doc = doc_list[0]\n",
    "# # title = doc.split('/')[-1].split('.pdf')[0]\n",
    "# # graph_root = f'{title}'\n",
    "# import networkx as nx\n",
    "\n",
    "# G = nx.read_graphml(f'{data_dir_output}/TSMC_KG_70b.graphml')\n",
    "# # G = nx.read_graphml(f'{data_dir_output}/4books_integrated.graphml')\n",
    "# print(f'KG loaded: {G}')\n",
    "# # node_embeddings = generate_node_embeddings(G, embedding_tokenizer, embedding_model, )\n",
    "\n"
   ]
  },
  {
   "cell_type": "code",
   "execution_count": null,
   "id": "0a066630-ea90-4d5e-9499-35f42db734c3",
   "metadata": {
    "editable": true,
    "slideshow": {
     "slide_type": ""
    },
    "tags": []
   },
   "outputs": [],
   "source": [
    "# from GraphReasoning import load_embeddings\n",
    "# embedding_file='TSMC_KG_70b.pkl'\n",
    "# generate_new_embeddings=True\n",
    "\n",
    "# if os.path.exists(f'{data_dir}/{embedding_file}'):\n",
    "#     generate_new_embeddings=False\n",
    "\n",
    "# if generate_new_embeddings:\n",
    "#     try:\n",
    "#         node_embeddings = generate_node_embeddings(G, embedding_tokenizer, embedding_model, )\n",
    "#     except:\n",
    "#         node_embeddings = generate_node_embeddings(nx.DiGraph(), embedding_tokenizer, embedding_model, )\n",
    "        \n",
    "#     save_embeddings(node_embeddings, f'{data_dir}/{embedding_file}')\n",
    "\n",
    "# else:\n",
    "#     filename = f\"{data_dir}/{embedding_file}\"\n",
    "#     # file_path = hf_hub_download(repo_id=repository_id, filename=filename, local_dir='./')\n",
    "#     # print(f\"File downloaded at: {file_path}\")\n",
    "#     node_embeddings = load_embeddings(f'{data_dir}/{embedding_file}')"
   ]
  },
  {
   "cell_type": "code",
   "execution_count": null,
   "id": "af9e52df-60c8-4d9a-87ef-1f566bf88f4b",
   "metadata": {},
   "outputs": [],
   "source": []
  },
  {
   "cell_type": "code",
   "execution_count": null,
   "id": "2241e3a7-525f-475e-b4c7-d9f1e28bfd19",
   "metadata": {},
   "outputs": [],
   "source": []
  },
  {
   "cell_type": "code",
   "execution_count": null,
   "id": "a0635943-ec61-402f-a09c-3354df10239c",
   "metadata": {},
   "outputs": [],
   "source": []
  },
  {
   "cell_type": "code",
   "execution_count": null,
   "id": "fb2ccff2-e454-4037-98e0-524b0f86c412",
   "metadata": {},
   "outputs": [],
   "source": []
  },
  {
   "cell_type": "code",
   "execution_count": null,
   "id": "6d798ca4-c0a1-4c41-aa2e-5d7900b6e04a",
   "metadata": {},
   "outputs": [],
   "source": []
  },
  {
   "cell_type": "code",
   "execution_count": null,
   "id": "7bab8b6e-802c-4f34-9c26-99b24c58b3e3",
   "metadata": {},
   "outputs": [],
   "source": []
  },
  {
   "cell_type": "code",
   "execution_count": null,
   "id": "ace98de5-0b29-4478-b959-6a774f87b4b5",
   "metadata": {},
   "outputs": [],
   "source": []
  },
  {
   "cell_type": "code",
   "execution_count": null,
   "id": "24997064-0ca0-495d-b1c4-832c9b3c4a89",
   "metadata": {},
   "outputs": [],
   "source": []
  }
 ],
 "metadata": {
  "kernelspec": {
   "display_name": "llm",
   "language": "python",
   "name": "llm"
  },
  "language_info": {
   "codemirror_mode": {
    "name": "ipython",
    "version": 3
   },
   "file_extension": ".py",
   "mimetype": "text/x-python",
   "name": "python",
   "nbconvert_exporter": "python",
   "pygments_lexer": "ipython3",
   "version": "3.12.10"
  }
 },
 "nbformat": 4,
 "nbformat_minor": 5
}
